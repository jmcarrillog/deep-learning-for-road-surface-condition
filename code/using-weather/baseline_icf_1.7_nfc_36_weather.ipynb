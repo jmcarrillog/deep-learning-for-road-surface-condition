{
 "cells": [
  {
   "cell_type": "markdown",
   "metadata": {
    "_cell_guid": "b1076dfc-b9ad-4769-8c92-a6c4dae69d19",
    "_uuid": "8f2839f25d086af736a60e9eeb907d3b93b6e0e5"
   },
   "source": [
    "# BASELINE MODEL FOR RWIS RSC CLASSIFICATION + WEATHER"
   ]
  },
  {
   "cell_type": "markdown",
   "metadata": {
    "_cell_guid": "79c7e3d0-c299-4dcb-8224-4455121ee9b0",
    "_uuid": "d629ff2d2480ee46fbb7e2d37f6b5fab8052498a",
    "collapsed": true
   },
   "source": [
    "## Import libraries"
   ]
  },
  {
   "cell_type": "code",
   "execution_count": 1,
   "metadata": {},
   "outputs": [
    {
     "name": "stderr",
     "output_type": "stream",
     "text": [
      "Using TensorFlow backend.\n"
     ]
    }
   ],
   "source": [
    "# Libraries for file and data handling\n",
    "%matplotlib inline\n",
    "import os, sys\n",
    "import numpy as np \n",
    "import pandas as pd\n",
    "import matplotlib\n",
    "import matplotlib.pyplot as plt\n",
    "from scipy import misc\n",
    "import imageio\n",
    "from keras.models import model_from_json\n",
    "from IPython.display import display\n",
    "from IPython.display import Image as _Imgdis\n",
    "from PIL import Image\n",
    "import pickle\n",
    "from random import shuffle, seed\n",
    "seed(444)"
   ]
  },
  {
   "cell_type": "markdown",
   "metadata": {},
   "source": [
    "## Data preparation"
   ]
  },
  {
   "cell_type": "code",
   "execution_count": 2,
   "metadata": {},
   "outputs": [],
   "source": [
    "# Load the lists detailing the train and test files\n",
    "with open('../input/rwis-data-split/split.pickle', 'rb') as handle:\n",
    "    split_dic = pickle.load(handle)"
   ]
  },
  {
   "cell_type": "code",
   "execution_count": 3,
   "metadata": {},
   "outputs": [
    {
     "name": "stdout",
     "output_type": "stream",
     "text": [
      "Images in train set:12600\n",
      "Images in test set:1400\n"
     ]
    }
   ],
   "source": [
    "# Obtain the lists\n",
    "train = split_dic['train']\n",
    "print('Images in train set:' + str(len(train)))\n",
    "test = split_dic['test']\n",
    "print('Images in test set:' + str(len(test)))"
   ]
  },
  {
   "cell_type": "code",
   "execution_count": 4,
   "metadata": {},
   "outputs": [],
   "source": [
    "# Image dimensions\n",
    "image_height = 299\n",
    "image_width = 299\n",
    "channels = 3\n",
    "display_images = True"
   ]
  },
  {
   "cell_type": "code",
   "execution_count": 5,
   "metadata": {},
   "outputs": [],
   "source": [
    "label_names = ['Bare pavement', 'Partial snow coverage', 'Full snow coverage']"
   ]
  },
  {
   "cell_type": "code",
   "execution_count": 6,
   "metadata": {},
   "outputs": [],
   "source": [
    "# Function that prints the total number of images per category in the given set\n",
    "def print_items(list_of_files):\n",
    "    cat1 = 0\n",
    "    cat2 = 0\n",
    "    cat3 = 0\n",
    "    for ifile in list_of_files:\n",
    "        if 'C1' in ifile:\n",
    "            cat1 += 1\n",
    "        elif 'C2' in ifile:\n",
    "            cat2 += 1\n",
    "        elif 'C3' in ifile:\n",
    "            cat3 += 1\n",
    "    total = cat1+cat2+cat3\n",
    "    print ('Total images: ' + str(total))\n",
    "    print (label_names[0] + ' ' + str(cat1) + ' Approx. ' + str(int(cat1/total*100)) + '%')\n",
    "    print (label_names[1] + ' ' + str(cat2) + ' Approx. ' + str(int(cat2/total*100)) + '%')\n",
    "    print (label_names[2] + ' ' + str(cat3) + ' Approx. ' + str(int(cat3/total*100)) + '%')"
   ]
  },
  {
   "cell_type": "code",
   "execution_count": 7,
   "metadata": {},
   "outputs": [
    {
     "name": "stdout",
     "output_type": "stream",
     "text": [
      "- Summary of images in the train set -\n",
      "Total images: 12600\n",
      "Bare pavement 5691 Approx. 45%\n",
      "Partial snow coverage 5114 Approx. 40%\n",
      "Full snow coverage 1795 Approx. 14%\n"
     ]
    }
   ],
   "source": [
    "print('- Summary of images in the train set -')\n",
    "print_items(train)"
   ]
  },
  {
   "cell_type": "code",
   "execution_count": 8,
   "metadata": {},
   "outputs": [
    {
     "name": "stdout",
     "output_type": "stream",
     "text": [
      "- Summary of images in the test set -\n",
      "Total images: 1400\n",
      "Bare pavement 648 Approx. 46%\n",
      "Partial snow coverage 558 Approx. 39%\n",
      "Full snow coverage 194 Approx. 13%\n"
     ]
    }
   ],
   "source": [
    "print('- Summary of images in the test set -')\n",
    "print_items(test)"
   ]
  },
  {
   "cell_type": "code",
   "execution_count": 9,
   "metadata": {},
   "outputs": [],
   "source": [
    "# Function to convert list of image filenames into numpy X and Y arrays\n",
    "def getArrays(folder, list_of_files):\n",
    "    \n",
    "    # Number of images in the list\n",
    "    numim = len(list_of_files)\n",
    "    # Prepare array for the images\n",
    "    images_array = np.ndarray(shape=(numim, image_height, image_width, channels), dtype=np.float16)\n",
    "    # Prepare array for the labels\n",
    "    labels_array = np.ndarray(shape = numim,dtype=np.uint8)\n",
    "    # Set some counters\n",
    "    idx_files = 0\n",
    "    completion = 20\n",
    "    \n",
    "    # Loop over the filenames\n",
    "    for ifile in list_of_files:\n",
    "        fullpath = folder + ifile\n",
    "        # From filename to numpy array\n",
    "        img_arr = imageio.imread(fullpath)\n",
    "        images_array[idx_files] = img_arr / 255.0\n",
    "        # Obtain label from filename\n",
    "        if '/C1/' in ifile:\n",
    "            label = 0\n",
    "        elif '/C2/' in ifile:\n",
    "            label = 1\n",
    "        elif '/C3/' in ifile:\n",
    "            label = 2\n",
    "        labels_array[idx_files] = label\n",
    "        idx_files += 1\n",
    "        \n",
    "        # Print % of completion\n",
    "        if (idx_files+1) % (numim//5) == 0:\n",
    "            print('Completed ' + str(completion) + '%')\n",
    "            completion += 20\n",
    "\n",
    "    return images_array, labels_array"
   ]
  },
  {
   "cell_type": "code",
   "execution_count": 10,
   "metadata": {},
   "outputs": [],
   "source": [
    "folder = \"../input/rwis299/rwis299/rwis299\""
   ]
  },
  {
   "cell_type": "code",
   "execution_count": 11,
   "metadata": {},
   "outputs": [
    {
     "name": "stdout",
     "output_type": "stream",
     "text": [
      "Completed 20%\n",
      "Completed 40%\n",
      "Completed 60%\n",
      "Completed 80%\n",
      "Completed 100%\n",
      "X_train shape is (12600, 299, 299, 3)\n",
      "y_train shape is (12600,)\n"
     ]
    }
   ],
   "source": [
    "# Import the corresponding images into numpy arrays \n",
    "X_train, y_train = getArrays(folder, train)\n",
    "print('X_train shape is ' + str(X_train.shape))\n",
    "print('y_train shape is ' + str(y_train.shape))"
   ]
  },
  {
   "cell_type": "code",
   "execution_count": 12,
   "metadata": {},
   "outputs": [
    {
     "name": "stdout",
     "output_type": "stream",
     "text": [
      "Completed 20%\n",
      "Completed 40%\n",
      "Completed 60%\n",
      "Completed 80%\n",
      "Completed 100%\n",
      "X_test shape is (1400, 299, 299, 3)\n",
      "y_test shape is (1400,)\n"
     ]
    }
   ],
   "source": [
    "# Import the corresponding images into numpy arrays \n",
    "X_test, y_test = getArrays(folder, test)\n",
    "print('X_test shape is ' + str(X_test.shape))\n",
    "print('y_test shape is ' + str(y_test.shape))"
   ]
  },
  {
   "cell_type": "code",
   "execution_count": 13,
   "metadata": {},
   "outputs": [
    {
     "name": "stdout",
     "output_type": "stream",
     "text": [
      "/ER-14/C2/ER-Hwy401_Curry_Hill-p3-1515260700.jpg\n"
     ]
    },
    {
     "data": {
      "image/jpeg": "[encoded data removed]",
      "text/plain": [
       "<IPython.core.display.Image object>"
      ]
     },
     "metadata": {
      "image/jpeg": {
       "height": 299,
       "width": 299
      }
     },
     "output_type": "display_data"
    },
    {
     "name": "stdout",
     "output_type": "stream",
     "text": [
      "/ER-32/C3/ER-Hwy416_Rideau_River-p3-1515841200.jpg\n"
     ]
    },
    {
     "data": {
      "image/jpeg": "[encoded data removed]",
      "text/plain": [
       "<IPython.core.display.Image object>"
      ]
     },
     "metadata": {
      "image/jpeg": {
       "height": 299,
       "width": 299
      }
     },
     "output_type": "display_data"
    }
   ],
   "source": [
    "# Display some images from the train set\n",
    "if display_images:    \n",
    "    for i in range(0, 2):\n",
    "        print(train[i])\n",
    "        display(_Imgdis(filename=folder+train[i], width = image_width, height = image_height))"
   ]
  },
  {
   "cell_type": "code",
   "execution_count": 14,
   "metadata": {},
   "outputs": [
    {
     "name": "stdout",
     "output_type": "stream",
     "text": [
      "/CR-19/C2/CR-Hwy401_near_Newtonville_Rd-p1-1513948500.jpg\n"
     ]
    },
    {
     "data": {
      "image/jpeg": "[encoded data removed]",
      "text/plain": [
       "<IPython.core.display.Image object>"
      ]
     },
     "metadata": {
      "image/jpeg": {
       "height": 299,
       "width": 299
      }
     },
     "output_type": "display_data"
    },
    {
     "name": "stdout",
     "output_type": "stream",
     "text": [
      "/NER-14/C1/NER-Hwy11_Marten_River-p1-1515527100.jpg\n"
     ]
    },
    {
     "data": {
      "image/jpeg": "[encoded data removed]",
      "text/plain": [
       "<IPython.core.display.Image object>"
      ]
     },
     "metadata": {
      "image/jpeg": {
       "height": 299,
       "width": 299
      }
     },
     "output_type": "display_data"
    }
   ],
   "source": [
    "# Display some images from the test set\n",
    "if display_images:\n",
    "    for i in range(0, 2):\n",
    "        print(test[i])\n",
    "        display(_Imgdis(filename=folder+test[i], width = image_width, height = image_height))"
   ]
  },
  {
   "cell_type": "markdown",
   "metadata": {},
   "source": [
    "## Model preparation"
   ]
  },
  {
   "cell_type": "code",
   "execution_count": 15,
   "metadata": {},
   "outputs": [],
   "source": [
    "#Import Keras and TensorFlow libraries\n",
    "from keras.preprocessing import image\n",
    "from keras.models import Model\n",
    "from keras import backend as K\n",
    "from time import time\n",
    "from keras.utils import np_utils\n",
    "from keras.models import Sequential\n",
    "from keras.layers import Dense, Dropout, Flatten, Input\n",
    "from keras import optimizers\n",
    "from keras.utils import to_categorical\n",
    "from keras.layers.convolutional import Conv2D, MaxPooling2D\n",
    "from keras.callbacks import TensorBoard"
   ]
  },
  {
   "cell_type": "code",
   "execution_count": 16,
   "metadata": {},
   "outputs": [],
   "source": [
    "# fix random seed for reproducibility\n",
    "seed = 7\n",
    "np.random.seed(seed)"
   ]
  },
  {
   "cell_type": "code",
   "execution_count": 17,
   "metadata": {},
   "outputs": [],
   "source": [
    "# Convert class vectors to binary class matrices.\n",
    "num_classes = 3\n",
    "y_train = to_categorical(y_train, num_classes)\n",
    "y_test = to_categorical(y_test, num_classes)"
   ]
  },
  {
   "cell_type": "code",
   "execution_count": 18,
   "metadata": {},
   "outputs": [
    {
     "name": "stdout",
     "output_type": "stream",
     "text": [
      "(12600, 3)\n",
      "(1400, 3)\n"
     ]
    }
   ],
   "source": [
    "print(y_train.shape)\n",
    "print(y_test.shape)"
   ]
  },
  {
   "cell_type": "markdown",
   "metadata": {},
   "source": [
    "## Importing the model"
   ]
  },
  {
   "cell_type": "code",
   "execution_count": 19,
   "metadata": {},
   "outputs": [
    {
     "name": "stdout",
     "output_type": "stream",
     "text": [
      "WARNING:tensorflow:From /opt/conda/lib/python3.6/site-packages/tensorflow/python/framework/op_def_library.py:263: colocate_with (from tensorflow.python.framework.ops) is deprecated and will be removed in a future version.\n",
      "Instructions for updating:\n",
      "Colocations handled automatically by placer.\n",
      "WARNING:tensorflow:From /opt/conda/lib/python3.6/site-packages/keras/backend/tensorflow_backend.py:3445: calling dropout (from tensorflow.python.ops.nn_ops) with keep_prob is deprecated and will be removed in a future version.\n",
      "Instructions for updating:\n",
      "Please use `rate` instead of `keep_prob`. Rate should be set to `rate = 1 - keep_prob`.\n"
     ]
    }
   ],
   "source": [
    "# load json and create model\n",
    "json_file = open('../input/dcnn-model/model_icf_17_fce_5.json', 'r')\n",
    "loaded_model_json = json_file.read()\n",
    "json_file.close()\n",
    "model = model_from_json(loaded_model_json)"
   ]
  },
  {
   "cell_type": "code",
   "execution_count": 20,
   "metadata": {},
   "outputs": [
    {
     "name": "stdout",
     "output_type": "stream",
     "text": [
      "_________________________________________________________________\n",
      "Layer (type)                 Output Shape              Param #   \n",
      "=================================================================\n",
      "conv2d_1 (Conv2D)            (None, 297, 297, 16)      448       \n",
      "_________________________________________________________________\n",
      "max_pooling2d_1 (MaxPooling2 (None, 148, 148, 16)      0         \n",
      "_________________________________________________________________\n",
      "conv2d_2 (Conv2D)            (None, 146, 146, 27)      3915      \n",
      "_________________________________________________________________\n",
      "max_pooling2d_2 (MaxPooling2 (None, 73, 73, 27)        0         \n",
      "_________________________________________________________________\n",
      "conv2d_3 (Conv2D)            (None, 71, 71, 46)        11224     \n",
      "_________________________________________________________________\n",
      "max_pooling2d_3 (MaxPooling2 (None, 35, 35, 46)        0         \n",
      "_________________________________________________________________\n",
      "conv2d_4 (Conv2D)            (None, 33, 33, 79)        32785     \n",
      "_________________________________________________________________\n",
      "max_pooling2d_4 (MaxPooling2 (None, 16, 16, 79)        0         \n",
      "_________________________________________________________________\n",
      "conv2d_5 (Conv2D)            (None, 14, 14, 134)       95408     \n",
      "_________________________________________________________________\n",
      "max_pooling2d_5 (MaxPooling2 (None, 7, 7, 134)         0         \n",
      "_________________________________________________________________\n",
      "dropout_1 (Dropout)          (None, 7, 7, 134)         0         \n",
      "_________________________________________________________________\n",
      "flatten_1 (Flatten)          (None, 6566)              0         \n",
      "_________________________________________________________________\n",
      "dense_1 (Dense)              (None, 24)                157608    \n",
      "_________________________________________________________________\n",
      "dropout_2 (Dropout)          (None, 24)                0         \n",
      "_________________________________________________________________\n",
      "dense_2 (Dense)              (None, 12)                300       \n",
      "_________________________________________________________________\n",
      "dropout_3 (Dropout)          (None, 12)                0         \n",
      "_________________________________________________________________\n",
      "dense_3 (Dense)              (None, 3)                 39        \n",
      "=================================================================\n",
      "Total params: 301,727\n",
      "Trainable params: 301,727\n",
      "Non-trainable params: 0\n",
      "_________________________________________________________________\n",
      "None\n"
     ]
    }
   ],
   "source": [
    "view_model = True\n",
    "if view_model:\n",
    "    print(model.summary())"
   ]
  },
  {
   "cell_type": "code",
   "execution_count": 21,
   "metadata": {},
   "outputs": [
    {
     "name": "stdout",
     "output_type": "stream",
     "text": [
      "Loaded weights into the model\n"
     ]
    }
   ],
   "source": [
    "# load weights into new model\n",
    "model.load_weights(\"../input/dcnn-weights/model_icf_17_fce_5_weights.h5\")\n",
    "print(\"Loaded weights into the model\")"
   ]
  },
  {
   "cell_type": "markdown",
   "metadata": {},
   "source": [
    "## Using the DCNN to output embeddings for all images"
   ]
  },
  {
   "cell_type": "code",
   "execution_count": 22,
   "metadata": {},
   "outputs": [],
   "source": [
    "opt = optimizers.SGD(lr=0.001, momentum=0.9, nesterov=True)\n",
    "model.compile(loss='categorical_crossentropy', optimizer=opt, metrics=['accuracy'])"
   ]
  },
  {
   "cell_type": "code",
   "execution_count": 23,
   "metadata": {},
   "outputs": [],
   "source": [
    "# Predict for images in the train set\n",
    "X_train_DCNN = model.predict(X_train)"
   ]
  },
  {
   "cell_type": "code",
   "execution_count": 24,
   "metadata": {},
   "outputs": [],
   "source": [
    "# Predict for images in the test set\n",
    "X_test_DCNN = model.predict(X_test)"
   ]
  },
  {
   "cell_type": "code",
   "execution_count": 25,
   "metadata": {},
   "outputs": [
    {
     "name": "stdout",
     "output_type": "stream",
     "text": [
      "X_train_DCNN\n",
      "(12600, 3)\n",
      "X_test_DCNN\n",
      "(1400, 3)\n"
     ]
    }
   ],
   "source": [
    "print(\"X_train_DCNN\")\n",
    "print(X_train_DCNN.shape)\n",
    "print(\"X_test_DCNN\")\n",
    "print(X_test_DCNN.shape)"
   ]
  },
  {
   "cell_type": "markdown",
   "metadata": {},
   "source": [
    "## Add weather variables"
   ]
  },
  {
   "cell_type": "code",
   "execution_count": 26,
   "metadata": {},
   "outputs": [],
   "source": [
    "# Load the dictionary with only four main variables. Image file paths as keys\n",
    "# and per-image dictionaries include four main weather variables\n",
    "with open('../input/weather-rwis/weather_rwis_4v/weather_rwis_4v.pickle', 'rb') as handle:\n",
    "    weather_rwis_dic_4v = pickle.load(handle)"
   ]
  },
  {
   "cell_type": "code",
   "execution_count": 27,
   "metadata": {},
   "outputs": [],
   "source": [
    "# Function to takes list of image filenames and weather data and turns\n",
    "# the weather variables into a numpy array\n",
    "def getWeatherArray(list_of_files, weather_dic):\n",
    "    \n",
    "    # Number of images in the list\n",
    "    numim = len(list_of_files)\n",
    "    # Prepare array for the weather variables (4)\n",
    "    weather_array = np.ndarray(shape=(numim, 4), dtype=np.float16)\n",
    "    # Set some counters\n",
    "    idx_files = 0\n",
    "    completion = 20\n",
    "    # List with weather variables for a particular image\n",
    "    weather_i = []\n",
    "    \n",
    "    # Loop over the filenames\n",
    "    for ifile in list_of_files:\n",
    "        weather_i.clear()\n",
    "        weather_i.append(weather_dic[ifile]['Air Temp (°C)'])\n",
    "        weather_i.append(weather_dic[ifile]['Relative Humidity\\xa0(%)'])\n",
    "        weather_i.append(weather_dic[ifile]['Pressure (kPa)'])\n",
    "        weather_i.append(weather_dic[ifile]['Wind Speed (km/h)'])\n",
    "        # From weather list to numpy array\n",
    "        weather_array[idx_files] = np.array(weather_i)\n",
    "        \n",
    "        idx_files += 1\n",
    "        \n",
    "        # Print % of completion\n",
    "        if (idx_files+1) % (numim//5) == 0:\n",
    "            print('Completed ' + str(completion) + '%')\n",
    "            completion += 20\n",
    "\n",
    "    return weather_array"
   ]
  },
  {
   "cell_type": "code",
   "execution_count": 28,
   "metadata": {},
   "outputs": [
    {
     "name": "stdout",
     "output_type": "stream",
     "text": [
      "Completed 20%\n",
      "Completed 40%\n",
      "Completed 60%\n",
      "Completed 80%\n",
      "Completed 100%\n"
     ]
    }
   ],
   "source": [
    "# Get weather array for images in the train set\n",
    "weather_array_train = getWeatherArray(train, weather_rwis_dic_4v)"
   ]
  },
  {
   "cell_type": "code",
   "execution_count": 29,
   "metadata": {},
   "outputs": [
    {
     "name": "stdout",
     "output_type": "stream",
     "text": [
      "Completed 20%\n",
      "Completed 40%\n",
      "Completed 60%\n",
      "Completed 80%\n",
      "Completed 100%\n"
     ]
    }
   ],
   "source": [
    "# Get weather array for images in the test set\n",
    "weather_array_test = getWeatherArray(test, weather_rwis_dic_4v)"
   ]
  },
  {
   "cell_type": "code",
   "execution_count": 30,
   "metadata": {},
   "outputs": [
    {
     "name": "stdout",
     "output_type": "stream",
     "text": [
      "weather_array_train\n",
      "(12600, 4)\n",
      "weather_array_test\n",
      "(1400, 4)\n"
     ]
    }
   ],
   "source": [
    "print(\"weather_array_train\")\n",
    "print(weather_array_train.shape)\n",
    "print(\"weather_array_test\")\n",
    "print(weather_array_test.shape)"
   ]
  },
  {
   "cell_type": "markdown",
   "metadata": {},
   "source": [
    "## Concatenate with output from the DCNN"
   ]
  },
  {
   "cell_type": "code",
   "execution_count": 31,
   "metadata": {},
   "outputs": [
    {
     "name": "stdout",
     "output_type": "stream",
     "text": [
      "X_train_DCNN\n",
      "(12600, 3)\n",
      "X_test_DCNN\n",
      "(1400, 3)\n"
     ]
    }
   ],
   "source": [
    "# See embeddings from the DCNN\n",
    "print(\"X_train_DCNN\")\n",
    "print(X_train_DCNN.shape)\n",
    "print(\"X_test_DCNN\")\n",
    "print(X_test_DCNN.shape)"
   ]
  },
  {
   "cell_type": "code",
   "execution_count": 32,
   "metadata": {},
   "outputs": [
    {
     "name": "stdout",
     "output_type": "stream",
     "text": [
      "Joining the two arrays along axis 1:\n",
      "(12600, 7)\n"
     ]
    }
   ],
   "source": [
    "# Concatenate for samples in the train set\n",
    "print ('Joining the two arrays along axis 1:' )\n",
    "X_train = np.concatenate((X_train_DCNN,weather_array_train),axis = 1)\n",
    "print(X_train.shape)"
   ]
  },
  {
   "cell_type": "code",
   "execution_count": 33,
   "metadata": {},
   "outputs": [
    {
     "name": "stdout",
     "output_type": "stream",
     "text": [
      "Joining the two arrays along axis 1:\n",
      "(1400, 7)\n"
     ]
    }
   ],
   "source": [
    "# Concatenate for samples in the test set\n",
    "print ('Joining the two arrays along axis 1:' )\n",
    "X_test = np.concatenate((X_test_DCNN,weather_array_test),axis = 1)\n",
    "print(X_test.shape)"
   ]
  },
  {
   "cell_type": "markdown",
   "metadata": {},
   "source": [
    "## Summary statistics, data cleaning and normalization"
   ]
  },
  {
   "cell_type": "code",
   "execution_count": 34,
   "metadata": {},
   "outputs": [],
   "source": [
    "# Concatenate output features from the Deep Convolutional Neural Network\n",
    "# with the weather variables\n",
    "columns = [\"dcnn_f1\", \"dcnn_f2\", \"dcnn_f3\", \"Air Temp (°C)\", \"Relative Humidity(%)\", \n",
    "           \"Pressure (kPa)\", \"Wind Speed (km/h)\"]"
   ]
  },
  {
   "cell_type": "code",
   "execution_count": 35,
   "metadata": {},
   "outputs": [],
   "source": [
    "# Converto to pandas dataframes\n",
    "X_train_df = pd.DataFrame(data=X_train, columns=columns)\n",
    "X_test_df = pd.DataFrame(data=X_test, columns=columns)"
   ]
  },
  {
   "cell_type": "code",
   "execution_count": 36,
   "metadata": {},
   "outputs": [
    {
     "data": {
      "text/html": [
       "<div>\n",
       "<style scoped>\n",
       "    .dataframe tbody tr th:only-of-type {\n",
       "        vertical-align: middle;\n",
       "    }\n",
       "\n",
       "    .dataframe tbody tr th {\n",
       "        vertical-align: top;\n",
       "    }\n",
       "\n",
       "    .dataframe thead th {\n",
       "        text-align: right;\n",
       "    }\n",
       "</style>\n",
       "<table border=\"1\" class=\"dataframe\">\n",
       "  <thead>\n",
       "    <tr style=\"text-align: right;\">\n",
       "      <th></th>\n",
       "      <th>dcnn_f1</th>\n",
       "      <th>dcnn_f2</th>\n",
       "      <th>dcnn_f3</th>\n",
       "      <th>Air Temp (°C)</th>\n",
       "      <th>Relative Humidity(%)</th>\n",
       "      <th>Pressure (kPa)</th>\n",
       "      <th>Wind Speed (km/h)</th>\n",
       "    </tr>\n",
       "  </thead>\n",
       "  <tbody>\n",
       "    <tr>\n",
       "      <th>0</th>\n",
       "      <td>0.057684</td>\n",
       "      <td>0.883721</td>\n",
       "      <td>0.058594</td>\n",
       "      <td>-22.703125</td>\n",
       "      <td>78.0</td>\n",
       "      <td>102.0625</td>\n",
       "      <td>31.0</td>\n",
       "    </tr>\n",
       "    <tr>\n",
       "      <th>1</th>\n",
       "      <td>0.011295</td>\n",
       "      <td>0.138644</td>\n",
       "      <td>0.850061</td>\n",
       "      <td>-15.296875</td>\n",
       "      <td>81.0</td>\n",
       "      <td>89.1250</td>\n",
       "      <td>16.0</td>\n",
       "    </tr>\n",
       "    <tr>\n",
       "      <th>2</th>\n",
       "      <td>0.060144</td>\n",
       "      <td>0.915987</td>\n",
       "      <td>0.023869</td>\n",
       "      <td>-19.406250</td>\n",
       "      <td>70.0</td>\n",
       "      <td>97.1875</td>\n",
       "      <td>10.0</td>\n",
       "    </tr>\n",
       "    <tr>\n",
       "      <th>3</th>\n",
       "      <td>0.016689</td>\n",
       "      <td>0.954104</td>\n",
       "      <td>0.029208</td>\n",
       "      <td>-1.099609</td>\n",
       "      <td>99.0</td>\n",
       "      <td>98.6875</td>\n",
       "      <td>3.0</td>\n",
       "    </tr>\n",
       "    <tr>\n",
       "      <th>4</th>\n",
       "      <td>0.009219</td>\n",
       "      <td>0.133908</td>\n",
       "      <td>0.856872</td>\n",
       "      <td>-2.599609</td>\n",
       "      <td>41.0</td>\n",
       "      <td>95.5625</td>\n",
       "      <td>0.0</td>\n",
       "    </tr>\n",
       "  </tbody>\n",
       "</table>\n",
       "</div>"
      ],
      "text/plain": [
       "    dcnn_f1   dcnn_f2        ...          Pressure (kPa)  Wind Speed (km/h)\n",
       "0  0.057684  0.883721        ...                102.0625               31.0\n",
       "1  0.011295  0.138644        ...                 89.1250               16.0\n",
       "2  0.060144  0.915987        ...                 97.1875               10.0\n",
       "3  0.016689  0.954104        ...                 98.6875                3.0\n",
       "4  0.009219  0.133908        ...                 95.5625                0.0\n",
       "\n",
       "[5 rows x 7 columns]"
      ]
     },
     "execution_count": 36,
     "metadata": {},
     "output_type": "execute_result"
    }
   ],
   "source": [
    "# Preview some entries in the train set\n",
    "X_train_df.head()"
   ]
  },
  {
   "cell_type": "code",
   "execution_count": 37,
   "metadata": {},
   "outputs": [
    {
     "data": {
      "text/html": [
       "<div>\n",
       "<style scoped>\n",
       "    .dataframe tbody tr th:only-of-type {\n",
       "        vertical-align: middle;\n",
       "    }\n",
       "\n",
       "    .dataframe tbody tr th {\n",
       "        vertical-align: top;\n",
       "    }\n",
       "\n",
       "    .dataframe thead th {\n",
       "        text-align: right;\n",
       "    }\n",
       "</style>\n",
       "<table border=\"1\" class=\"dataframe\">\n",
       "  <thead>\n",
       "    <tr style=\"text-align: right;\">\n",
       "      <th></th>\n",
       "      <th>dcnn_f1</th>\n",
       "      <th>dcnn_f2</th>\n",
       "      <th>dcnn_f3</th>\n",
       "      <th>Air Temp (°C)</th>\n",
       "      <th>Relative Humidity(%)</th>\n",
       "      <th>Pressure (kPa)</th>\n",
       "      <th>Wind Speed (km/h)</th>\n",
       "    </tr>\n",
       "  </thead>\n",
       "  <tbody>\n",
       "    <tr>\n",
       "      <th>0</th>\n",
       "      <td>0.017901</td>\n",
       "      <td>9.459012e-01</td>\n",
       "      <td>3.619806e-02</td>\n",
       "      <td>-8.898438</td>\n",
       "      <td>90.0</td>\n",
       "      <td>100.6250</td>\n",
       "      <td>3.0</td>\n",
       "    </tr>\n",
       "    <tr>\n",
       "      <th>1</th>\n",
       "      <td>0.999658</td>\n",
       "      <td>3.419565e-04</td>\n",
       "      <td>8.143266e-09</td>\n",
       "      <td>-5.699219</td>\n",
       "      <td>74.0</td>\n",
       "      <td>98.7500</td>\n",
       "      <td>5.0</td>\n",
       "    </tr>\n",
       "    <tr>\n",
       "      <th>2</th>\n",
       "      <td>1.000000</td>\n",
       "      <td>1.485903e-08</td>\n",
       "      <td>2.979302e-17</td>\n",
       "      <td>-8.101562</td>\n",
       "      <td>100.0</td>\n",
       "      <td>97.9375</td>\n",
       "      <td>3.0</td>\n",
       "    </tr>\n",
       "    <tr>\n",
       "      <th>3</th>\n",
       "      <td>0.090825</td>\n",
       "      <td>8.680093e-01</td>\n",
       "      <td>4.116585e-02</td>\n",
       "      <td>-11.898438</td>\n",
       "      <td>60.0</td>\n",
       "      <td>96.3750</td>\n",
       "      <td>9.0</td>\n",
       "    </tr>\n",
       "    <tr>\n",
       "      <th>4</th>\n",
       "      <td>0.999999</td>\n",
       "      <td>6.211227e-07</td>\n",
       "      <td>5.390645e-15</td>\n",
       "      <td>-2.699219</td>\n",
       "      <td>84.0</td>\n",
       "      <td>99.3750</td>\n",
       "      <td>9.0</td>\n",
       "    </tr>\n",
       "  </tbody>\n",
       "</table>\n",
       "</div>"
      ],
      "text/plain": [
       "    dcnn_f1       dcnn_f2        ...          Pressure (kPa)  Wind Speed (km/h)\n",
       "0  0.017901  9.459012e-01        ...                100.6250                3.0\n",
       "1  0.999658  3.419565e-04        ...                 98.7500                5.0\n",
       "2  1.000000  1.485903e-08        ...                 97.9375                3.0\n",
       "3  0.090825  8.680093e-01        ...                 96.3750                9.0\n",
       "4  0.999999  6.211227e-07        ...                 99.3750                9.0\n",
       "\n",
       "[5 rows x 7 columns]"
      ]
     },
     "execution_count": 37,
     "metadata": {},
     "output_type": "execute_result"
    }
   ],
   "source": [
    "# Preview some entries in the test set\n",
    "X_test_df.head()"
   ]
  },
  {
   "cell_type": "code",
   "execution_count": 38,
   "metadata": {},
   "outputs": [
    {
     "name": "stdout",
     "output_type": "stream",
     "text": [
      "Percentage of Null values in dcnn_f1 is:       0.00%\n",
      "Percentage of Null values in dcnn_f2 is:       0.00%\n",
      "Percentage of Null values in dcnn_f3 is:       0.00%\n",
      "Percentage of Null values in Air Temp (°C) is:       0.00%\n",
      "Percentage of Null values in Relative Humidity(%) is:       1.78%\n",
      "Percentage of Null values in Pressure (kPa) is:       0.00%\n",
      "Percentage of Null values in Wind Speed (km/h) is:       0.26%\n"
     ]
    }
   ],
   "source": [
    "# Check for null values in the train set\n",
    "for feature in columns:\n",
    "    print(\"Percentage of Null values in \"+feature+\" is: \" + \"{:10.2f}%\".\n",
    "          format(100 * X_train_df[feature].isnull().sum() / len(X_train_df)))"
   ]
  },
  {
   "cell_type": "code",
   "execution_count": 39,
   "metadata": {},
   "outputs": [
    {
     "name": "stdout",
     "output_type": "stream",
     "text": [
      "Percentage of Null values in dcnn_f1 is:       0.00%\n",
      "Percentage of Null values in dcnn_f2 is:       0.00%\n",
      "Percentage of Null values in dcnn_f3 is:       0.00%\n",
      "Percentage of Null values in Air Temp (°C) is:       0.00%\n",
      "Percentage of Null values in Relative Humidity(%) is:       1.14%\n",
      "Percentage of Null values in Pressure (kPa) is:       0.00%\n",
      "Percentage of Null values in Wind Speed (km/h) is:       0.07%\n"
     ]
    }
   ],
   "source": [
    "# Check for null values in the test set\n",
    "for feature in columns:\n",
    "    print(\"Percentage of Null values in \"+feature+\" is: \" + \"{:10.2f}%\".\n",
    "          format(100 * X_test_df[feature].isnull().sum() / len(X_test_df)))"
   ]
  },
  {
   "cell_type": "code",
   "execution_count": 40,
   "metadata": {},
   "outputs": [],
   "source": [
    "# Function to fill nulls with mean value\n",
    "def fill_nulls(dataset):\n",
    "    for i in dataset.columns:\n",
    "        mean = dataset[i].mean()\n",
    "        dataset[i] = dataset[i].fillna(mean,axis=0)\n",
    "    return dataset"
   ]
  },
  {
   "cell_type": "code",
   "execution_count": 41,
   "metadata": {},
   "outputs": [],
   "source": [
    "# Fill nulls in train set\n",
    "X_train_df = fill_nulls(X_train_df)\n",
    "# Fill nulls in test set\n",
    "X_test_df = fill_nulls(X_test_df)"
   ]
  },
  {
   "cell_type": "code",
   "execution_count": 42,
   "metadata": {},
   "outputs": [
    {
     "name": "stdout",
     "output_type": "stream",
     "text": [
      "Percentage of Null values in dcnn_f1 is:       0.00%\n",
      "Percentage of Null values in dcnn_f2 is:       0.00%\n",
      "Percentage of Null values in dcnn_f3 is:       0.00%\n",
      "Percentage of Null values in Air Temp (°C) is:       0.00%\n",
      "Percentage of Null values in Relative Humidity(%) is:       0.00%\n",
      "Percentage of Null values in Pressure (kPa) is:       0.00%\n",
      "Percentage of Null values in Wind Speed (km/h) is:       0.00%\n"
     ]
    }
   ],
   "source": [
    "# Check for null values in the train set\n",
    "for feature in columns:\n",
    "    print(\"Percentage of Null values in \"+feature+\" is: \" + \"{:10.2f}%\".\n",
    "          format(100 * X_train_df[feature].isnull().sum() / len(X_train_df)))"
   ]
  },
  {
   "cell_type": "code",
   "execution_count": 43,
   "metadata": {},
   "outputs": [
    {
     "name": "stdout",
     "output_type": "stream",
     "text": [
      "Percentage of Null values in dcnn_f1 is:       0.00%\n",
      "Percentage of Null values in dcnn_f2 is:       0.00%\n",
      "Percentage of Null values in dcnn_f3 is:       0.00%\n",
      "Percentage of Null values in Air Temp (°C) is:       0.00%\n",
      "Percentage of Null values in Relative Humidity(%) is:       0.00%\n",
      "Percentage of Null values in Pressure (kPa) is:       0.00%\n",
      "Percentage of Null values in Wind Speed (km/h) is:       0.00%\n"
     ]
    }
   ],
   "source": [
    "# Check for null values in the test set\n",
    "for feature in columns:\n",
    "    print(\"Percentage of Null values in \"+feature+\" is: \" + \"{:10.2f}%\".\n",
    "          format(100 * X_test_df[feature].isnull().sum() / len(X_test_df)))"
   ]
  },
  {
   "cell_type": "code",
   "execution_count": 44,
   "metadata": {},
   "outputs": [],
   "source": [
    "# Normalize features\n",
    "def z_score_normalize(dataset):\n",
    "    for i in dataset.columns:\n",
    "        mean = dataset[i].mean()\n",
    "        std = dataset[i].std()\n",
    "        dataset[i] = (dataset[i] - mean) / std\n",
    "    return dataset"
   ]
  },
  {
   "cell_type": "code",
   "execution_count": 45,
   "metadata": {},
   "outputs": [],
   "source": [
    "# Normalize train set\n",
    "X_train_df = z_score_normalize(X_train_df)\n",
    "# Normalize test set\n",
    "X_test_df = z_score_normalize(X_test_df)"
   ]
  },
  {
   "cell_type": "code",
   "execution_count": 46,
   "metadata": {},
   "outputs": [
    {
     "data": {
      "text/html": [
       "<div>\n",
       "<style scoped>\n",
       "    .dataframe tbody tr th:only-of-type {\n",
       "        vertical-align: middle;\n",
       "    }\n",
       "\n",
       "    .dataframe tbody tr th {\n",
       "        vertical-align: top;\n",
       "    }\n",
       "\n",
       "    .dataframe thead th {\n",
       "        text-align: right;\n",
       "    }\n",
       "</style>\n",
       "<table border=\"1\" class=\"dataframe\">\n",
       "  <thead>\n",
       "    <tr style=\"text-align: right;\">\n",
       "      <th></th>\n",
       "      <th>dcnn_f1</th>\n",
       "      <th>dcnn_f2</th>\n",
       "      <th>dcnn_f3</th>\n",
       "      <th>Air Temp (°C)</th>\n",
       "      <th>Relative Humidity(%)</th>\n",
       "      <th>Pressure (kPa)</th>\n",
       "      <th>Wind Speed (km/h)</th>\n",
       "    </tr>\n",
       "  </thead>\n",
       "  <tbody>\n",
       "    <tr>\n",
       "      <th>0</th>\n",
       "      <td>-0.845119</td>\n",
       "      <td>1.116454</td>\n",
       "      <td>-0.278767</td>\n",
       "      <td>-1.951688</td>\n",
       "      <td>-0.175364</td>\n",
       "      <td>0.590206</td>\n",
       "      <td>1.424377</td>\n",
       "    </tr>\n",
       "    <tr>\n",
       "      <th>1</th>\n",
       "      <td>-0.942281</td>\n",
       "      <td>-0.596318</td>\n",
       "      <td>2.405963</td>\n",
       "      <td>-1.005211</td>\n",
       "      <td>-0.149574</td>\n",
       "      <td>-2.844331</td>\n",
       "      <td>0.293870</td>\n",
       "    </tr>\n",
       "    <tr>\n",
       "      <th>2</th>\n",
       "      <td>-0.839968</td>\n",
       "      <td>1.190626</td>\n",
       "      <td>-0.396557</td>\n",
       "      <td>-1.530366</td>\n",
       "      <td>-0.244138</td>\n",
       "      <td>-0.703968</td>\n",
       "      <td>-0.158333</td>\n",
       "    </tr>\n",
       "    <tr>\n",
       "      <th>3</th>\n",
       "      <td>-0.930986</td>\n",
       "      <td>1.278248</td>\n",
       "      <td>-0.378449</td>\n",
       "      <td>0.809118</td>\n",
       "      <td>0.005166</td>\n",
       "      <td>-0.305760</td>\n",
       "      <td>-0.685903</td>\n",
       "    </tr>\n",
       "    <tr>\n",
       "      <th>4</th>\n",
       "      <td>-0.946630</td>\n",
       "      <td>-0.607204</td>\n",
       "      <td>2.429069</td>\n",
       "      <td>0.617427</td>\n",
       "      <td>-0.493441</td>\n",
       "      <td>-1.135359</td>\n",
       "      <td>-0.912004</td>\n",
       "    </tr>\n",
       "  </tbody>\n",
       "</table>\n",
       "</div>"
      ],
      "text/plain": [
       "    dcnn_f1   dcnn_f2        ...          Pressure (kPa)  Wind Speed (km/h)\n",
       "0 -0.845119  1.116454        ...                0.590206           1.424377\n",
       "1 -0.942281 -0.596318        ...               -2.844331           0.293870\n",
       "2 -0.839968  1.190626        ...               -0.703968          -0.158333\n",
       "3 -0.930986  1.278248        ...               -0.305760          -0.685903\n",
       "4 -0.946630 -0.607204        ...               -1.135359          -0.912004\n",
       "\n",
       "[5 rows x 7 columns]"
      ]
     },
     "execution_count": 46,
     "metadata": {},
     "output_type": "execute_result"
    }
   ],
   "source": [
    "# Preview some entries in the train set\n",
    "X_train_df.head()"
   ]
  },
  {
   "cell_type": "code",
   "execution_count": 47,
   "metadata": {},
   "outputs": [
    {
     "data": {
      "text/html": [
       "<div>\n",
       "<style scoped>\n",
       "    .dataframe tbody tr th:only-of-type {\n",
       "        vertical-align: middle;\n",
       "    }\n",
       "\n",
       "    .dataframe tbody tr th {\n",
       "        vertical-align: top;\n",
       "    }\n",
       "\n",
       "    .dataframe thead th {\n",
       "        text-align: right;\n",
       "    }\n",
       "</style>\n",
       "<table border=\"1\" class=\"dataframe\">\n",
       "  <thead>\n",
       "    <tr style=\"text-align: right;\">\n",
       "      <th></th>\n",
       "      <th>dcnn_f1</th>\n",
       "      <th>dcnn_f2</th>\n",
       "      <th>dcnn_f3</th>\n",
       "      <th>Air Temp (°C)</th>\n",
       "      <th>Relative Humidity(%)</th>\n",
       "      <th>Pressure (kPa)</th>\n",
       "      <th>Wind Speed (km/h)</th>\n",
       "    </tr>\n",
       "  </thead>\n",
       "  <tbody>\n",
       "    <tr>\n",
       "      <th>0</th>\n",
       "      <td>-0.953038</td>\n",
       "      <td>1.283936</td>\n",
       "      <td>-0.345918</td>\n",
       "      <td>-0.193704</td>\n",
       "      <td>-0.108583</td>\n",
       "      <td>0.187086</td>\n",
       "      <td>-0.691187</td>\n",
       "    </tr>\n",
       "    <tr>\n",
       "      <th>1</th>\n",
       "      <td>1.116048</td>\n",
       "      <td>-0.921172</td>\n",
       "      <td>-0.473233</td>\n",
       "      <td>0.215042</td>\n",
       "      <td>-0.227775</td>\n",
       "      <td>-0.314198</td>\n",
       "      <td>-0.538884</td>\n",
       "    </tr>\n",
       "    <tr>\n",
       "      <th>2</th>\n",
       "      <td>1.116769</td>\n",
       "      <td>-0.921970</td>\n",
       "      <td>-0.473233</td>\n",
       "      <td>-0.091892</td>\n",
       "      <td>-0.034088</td>\n",
       "      <td>-0.531421</td>\n",
       "      <td>-0.691187</td>\n",
       "    </tr>\n",
       "    <tr>\n",
       "      <th>3</th>\n",
       "      <td>-0.799348</td>\n",
       "      <td>1.102287</td>\n",
       "      <td>-0.328446</td>\n",
       "      <td>-0.576998</td>\n",
       "      <td>-0.332067</td>\n",
       "      <td>-0.949158</td>\n",
       "      <td>-0.234279</td>\n",
       "    </tr>\n",
       "    <tr>\n",
       "      <th>4</th>\n",
       "      <td>1.116768</td>\n",
       "      <td>-0.921968</td>\n",
       "      <td>-0.473233</td>\n",
       "      <td>0.598336</td>\n",
       "      <td>-0.153280</td>\n",
       "      <td>-0.147103</td>\n",
       "      <td>-0.234279</td>\n",
       "    </tr>\n",
       "  </tbody>\n",
       "</table>\n",
       "</div>"
      ],
      "text/plain": [
       "    dcnn_f1   dcnn_f2        ...          Pressure (kPa)  Wind Speed (km/h)\n",
       "0 -0.953038  1.283936        ...                0.187086          -0.691187\n",
       "1  1.116048 -0.921172        ...               -0.314198          -0.538884\n",
       "2  1.116769 -0.921970        ...               -0.531421          -0.691187\n",
       "3 -0.799348  1.102287        ...               -0.949158          -0.234279\n",
       "4  1.116768 -0.921968        ...               -0.147103          -0.234279\n",
       "\n",
       "[5 rows x 7 columns]"
      ]
     },
     "execution_count": 47,
     "metadata": {},
     "output_type": "execute_result"
    }
   ],
   "source": [
    "# Preview some entries in the test set\n",
    "X_test_df.head()"
   ]
  },
  {
   "cell_type": "markdown",
   "metadata": {},
   "source": [
    "## Prepare for model evaluation"
   ]
  },
  {
   "cell_type": "code",
   "execution_count": 48,
   "metadata": {},
   "outputs": [],
   "source": [
    "from sklearn.metrics import confusion_matrix\n",
    "from sklearn.utils.multiclass import unique_labels\n",
    "from sklearn.metrics import precision_recall_fscore_support, accuracy_score\n",
    "from sklearn.model_selection import GridSearchCV\n",
    "from sklearn.metrics import classification_report\n",
    "\n",
    "def plot_confusion_matrix(y_true, y_pred, classes,\n",
    "                          normalize=False,\n",
    "                          title=None,\n",
    "                          cmap=plt.cm.Blues):\n",
    "    \"\"\"\n",
    "    This function prints and plots the confusion matrix.\n",
    "    Normalization can be applied by setting `normalize=True`.\n",
    "    \"\"\"\n",
    "    if not title:\n",
    "        if normalize:\n",
    "            title = 'Normalized confusion matrix'\n",
    "        else:\n",
    "            title = 'Confusion matrix, without normalization'\n",
    "\n",
    "    # Compute confusion matrix\n",
    "    cm = confusion_matrix(y_true, y_pred)\n",
    "    if normalize:\n",
    "        cm = cm.astype('float') / cm.sum(axis=1)[:, np.newaxis]\n",
    "        print(\"Normalized confusion matrix\")\n",
    "    else:\n",
    "        print('Confusion matrix, without normalization')\n",
    "\n",
    "    print(cm)\n",
    "\n",
    "    fig, ax = plt.subplots()\n",
    "    im = ax.imshow(cm, interpolation='nearest', cmap=cmap)\n",
    "    ax.figure.colorbar(im, ax=ax)\n",
    "    # We want to show all ticks...\n",
    "    ax.set(xticks=np.arange(cm.shape[1]),\n",
    "           yticks=np.arange(cm.shape[0]),\n",
    "           # ... and label them with the respective list entries\n",
    "           xticklabels=classes, yticklabels=classes,\n",
    "           title=title,\n",
    "           ylabel='True label',\n",
    "           xlabel='Predicted label')\n",
    "\n",
    "    # Rotate the tick labels and set their alignment.\n",
    "    plt.setp(ax.get_xticklabels(), rotation=45, ha=\"right\",\n",
    "             rotation_mode=\"anchor\")\n",
    "\n",
    "    # Loop over data dimensions and create text annotations.\n",
    "    fmt = '.2f' if normalize else 'd'\n",
    "    thresh = cm.max() / 2.\n",
    "    for i in range(cm.shape[0]):\n",
    "        for j in range(cm.shape[1]):\n",
    "            ax.text(j, i, format(cm[i, j], fmt),\n",
    "                    ha=\"center\", va=\"center\",\n",
    "                    color=\"white\" if cm[i, j] > thresh else \"black\")\n",
    "    fig.tight_layout()\n",
    "    return ax"
   ]
  },
  {
   "cell_type": "markdown",
   "metadata": {},
   "source": [
    "## Train and evaluate a Random Forest classifier"
   ]
  },
  {
   "cell_type": "code",
   "execution_count": 49,
   "metadata": {},
   "outputs": [
    {
     "name": "stdout",
     "output_type": "stream",
     "text": [
      "# Tuning hyper-parameters for accuracy\n",
      "Best parameters set found using cross-validation:\n",
      "\n",
      "{'max_depth': 6, 'min_samples_leaf': 4, 'n_estimators': 50}\n",
      "\n",
      "Grid scores on cross-validation:\n",
      "\n",
      "0.854 (+/-0.107) for {'max_depth': 2, 'min_samples_leaf': 4, 'n_estimators': 10}\n",
      "0.941 (+/-0.033) for {'max_depth': 2, 'min_samples_leaf': 4, 'n_estimators': 50}\n",
      "0.910 (+/-0.065) for {'max_depth': 2, 'min_samples_leaf': 4, 'n_estimators': 100}\n",
      "0.872 (+/-0.123) for {'max_depth': 2, 'min_samples_leaf': 8, 'n_estimators': 10}\n",
      "0.932 (+/-0.053) for {'max_depth': 2, 'min_samples_leaf': 8, 'n_estimators': 50}\n",
      "0.913 (+/-0.057) for {'max_depth': 2, 'min_samples_leaf': 8, 'n_estimators': 100}\n",
      "0.886 (+/-0.080) for {'max_depth': 2, 'min_samples_leaf': 12, 'n_estimators': 10}\n",
      "0.914 (+/-0.059) for {'max_depth': 2, 'min_samples_leaf': 12, 'n_estimators': 50}\n",
      "0.895 (+/-0.057) for {'max_depth': 2, 'min_samples_leaf': 12, 'n_estimators': 100}\n",
      "0.953 (+/-0.033) for {'max_depth': 4, 'min_samples_leaf': 4, 'n_estimators': 10}\n",
      "0.953 (+/-0.032) for {'max_depth': 4, 'min_samples_leaf': 4, 'n_estimators': 50}\n",
      "0.953 (+/-0.030) for {'max_depth': 4, 'min_samples_leaf': 4, 'n_estimators': 100}\n",
      "0.952 (+/-0.030) for {'max_depth': 4, 'min_samples_leaf': 8, 'n_estimators': 10}\n",
      "0.953 (+/-0.030) for {'max_depth': 4, 'min_samples_leaf': 8, 'n_estimators': 50}\n",
      "0.953 (+/-0.031) for {'max_depth': 4, 'min_samples_leaf': 8, 'n_estimators': 100}\n",
      "0.953 (+/-0.030) for {'max_depth': 4, 'min_samples_leaf': 12, 'n_estimators': 10}\n",
      "0.953 (+/-0.031) for {'max_depth': 4, 'min_samples_leaf': 12, 'n_estimators': 50}\n",
      "0.953 (+/-0.031) for {'max_depth': 4, 'min_samples_leaf': 12, 'n_estimators': 100}\n",
      "0.954 (+/-0.030) for {'max_depth': 6, 'min_samples_leaf': 4, 'n_estimators': 10}\n",
      "0.955 (+/-0.032) for {'max_depth': 6, 'min_samples_leaf': 4, 'n_estimators': 50}\n",
      "0.955 (+/-0.030) for {'max_depth': 6, 'min_samples_leaf': 4, 'n_estimators': 100}\n",
      "0.954 (+/-0.030) for {'max_depth': 6, 'min_samples_leaf': 8, 'n_estimators': 10}\n",
      "0.955 (+/-0.030) for {'max_depth': 6, 'min_samples_leaf': 8, 'n_estimators': 50}\n",
      "0.954 (+/-0.031) for {'max_depth': 6, 'min_samples_leaf': 8, 'n_estimators': 100}\n",
      "0.953 (+/-0.029) for {'max_depth': 6, 'min_samples_leaf': 12, 'n_estimators': 10}\n",
      "0.955 (+/-0.031) for {'max_depth': 6, 'min_samples_leaf': 12, 'n_estimators': 50}\n",
      "0.955 (+/-0.031) for {'max_depth': 6, 'min_samples_leaf': 12, 'n_estimators': 100}\n",
      "\n"
     ]
    }
   ],
   "source": [
    "from sklearn.ensemble import RandomForestClassifier\n",
    "\n",
    "# Tune main hyperparameters by grid search and cross-validation\n",
    "param_grid = [{'n_estimators': [10, 50, 100], 'max_depth': [2, 4, 6], 'min_samples_leaf': [4, 8, 12]}]\n",
    "\n",
    "# Accuracy is the score of choice\n",
    "score = 'accuracy'\n",
    "\n",
    "print(\"# Tuning hyper-parameters for %s\" % score)\n",
    "rf_clf = GridSearchCV(RandomForestClassifier(), param_grid, cv=5,\n",
    "                      scoring= score)\n",
    "rf_clf.fit(X_train_df, y_train)\n",
    "\n",
    "print(\"Best parameters set found using cross-validation:\")\n",
    "print()\n",
    "print(rf_clf.best_params_)\n",
    "print()\n",
    "print(\"Grid scores on cross-validation:\")\n",
    "print()\n",
    "means = rf_clf.cv_results_['mean_test_score']\n",
    "stds = rf_clf.cv_results_['std_test_score']\n",
    "for mean, std, params in zip(means, stds, rf_clf.cv_results_['params']):\n",
    "    print(\"%0.3f (+/-%0.03f) for %r\"\n",
    "          % (mean, std * 2, params))\n",
    "print()"
   ]
  },
  {
   "cell_type": "code",
   "execution_count": 50,
   "metadata": {},
   "outputs": [],
   "source": [
    "# Predict for the test set using the best possible combination of parameters \n",
    "# from the parameter grid in the previous step\n",
    "y_pred_test = rf_clf.predict(X_test_df)"
   ]
  },
  {
   "cell_type": "code",
   "execution_count": 51,
   "metadata": {},
   "outputs": [
    {
     "name": "stdout",
     "output_type": "stream",
     "text": [
      "------------------------------------------------------------\n",
      "Accuracy in the test set: 0.916\n",
      "------------------------------------------------------------\n",
      "Confusion matrix, without normalization\n",
      "[[620  25   3]\n",
      " [ 27 504  27]\n",
      " [  2  31 161]]\n",
      "------------------------------------------------------------\n",
      "Normalized confusion matrix\n",
      "[[0.96 0.04 0.  ]\n",
      " [0.05 0.9  0.05]\n",
      " [0.01 0.16 0.83]]\n"
     ]
    },
    {
     "data": {
      "image/png": "[encoded data removed]",
      "text/plain": [
       "<Figure size 432x288 with 2 Axes>"
      ]
     },
     "metadata": {},
     "output_type": "display_data"
    },
    {
     "data": {
      "image/png": "[encoded data removed]",
      "text/plain": [
       "<Figure size 432x288 with 2 Axes>"
      ]
     },
     "metadata": {},
     "output_type": "display_data"
    }
   ],
   "source": [
    "# Evaluate model\n",
    "np.set_printoptions(precision=2)\n",
    "print(\"------------------------------------------------------------\")\n",
    "# Accuracy in the test set\n",
    "print(\"Accuracy in the test set: \" + \"%0.3f\" % (accuracy_score(y_test, y_pred_test)))\n",
    "print(\"------------------------------------------------------------\")\n",
    "# Plot non-normalized confusion matrix\n",
    "plot_confusion_matrix(y_test.argmax(axis=1), y_pred_test.argmax(axis=1), classes=label_names,\n",
    "#plot_confusion_matrix(y_test.argmax(axis=1), y_pred_test, classes=label_names,\n",
    "                      title='Confusion matrix, without normalization')\n",
    "print(\"------------------------------------------------------------\")\n",
    "# Plot normalized confusion matrix\n",
    "plot_confusion_matrix(y_test.argmax(axis=1), y_pred_test.argmax(axis=1), classes=label_names, normalize=True,\n",
    "#plot_confusion_matrix(y_test.argmax(axis=1), y_pred_test, classes=label_names, normalize=True,\n",
    "                      title='Normalized confusion matrix')\n",
    "\n",
    "plt.show()"
   ]
  },
  {
   "cell_type": "code",
   "execution_count": 52,
   "metadata": {},
   "outputs": [
    {
     "name": "stdout",
     "output_type": "stream",
     "text": [
      "Precision: 0.917695342814963\n",
      "Recall: 0.9178571428571428\n",
      "F1 score: 0.9177677923016538\n"
     ]
    }
   ],
   "source": [
    "# Print more classification scores\n",
    "sc_precision, sc_recall, sc_f1score, support = precision_recall_fscore_support(y_test.argmax(axis=1), y_pred_test.argmax(axis=1), average='weighted')\n",
    "print(\"Precision: \"+str(sc_precision))\n",
    "print(\"Recall: \"+str(sc_recall))\n",
    "print(\"F1 score: \"+str(sc_f1score))"
   ]
  },
  {
   "cell_type": "markdown",
   "metadata": {},
   "source": [
    "## Train and evaluate a SVM classifier"
   ]
  },
  {
   "cell_type": "code",
   "execution_count": 53,
   "metadata": {},
   "outputs": [
    {
     "name": "stdout",
     "output_type": "stream",
     "text": [
      "# Tuning hyper-parameters for accuracy\n",
      "Best parameters set found using cross-validation:\n",
      "\n",
      "{'C': 100, 'gamma': 0.1, 'kernel': 'rbf'}\n",
      "\n",
      "Grid scores on cross-validation:\n",
      "\n",
      "0.958 (+/-0.028) for {'C': 1, 'gamma': 0.1, 'kernel': 'rbf'}\n",
      "0.957 (+/-0.029) for {'C': 1, 'gamma': 0.01, 'kernel': 'rbf'}\n",
      "0.956 (+/-0.030) for {'C': 1, 'gamma': 0.001, 'kernel': 'rbf'}\n",
      "0.957 (+/-0.028) for {'C': 10, 'gamma': 0.1, 'kernel': 'rbf'}\n",
      "0.957 (+/-0.027) for {'C': 10, 'gamma': 0.01, 'kernel': 'rbf'}\n",
      "0.957 (+/-0.030) for {'C': 10, 'gamma': 0.001, 'kernel': 'rbf'}\n",
      "0.959 (+/-0.027) for {'C': 100, 'gamma': 0.1, 'kernel': 'rbf'}\n",
      "0.956 (+/-0.027) for {'C': 100, 'gamma': 0.01, 'kernel': 'rbf'}\n",
      "0.957 (+/-0.029) for {'C': 100, 'gamma': 0.001, 'kernel': 'rbf'}\n",
      "0.957 (+/-0.030) for {'C': 1, 'kernel': 'linear'}\n",
      "0.957 (+/-0.030) for {'C': 10, 'kernel': 'linear'}\n",
      "0.957 (+/-0.030) for {'C': 100, 'kernel': 'linear'}\n",
      "\n"
     ]
    }
   ],
   "source": [
    "from sklearn.svm import SVC\n",
    "\n",
    "# Tune main hyperparameters by grid search and cross-validation\n",
    "param_grid = [{'kernel': ['rbf'], 'gamma': [1e-1, 1e-2, 1e-3],\n",
    "                     'C': [1, 10, 100]},\n",
    "                    {'kernel': ['linear'], 'C': [1, 10, 100]}]\n",
    "\n",
    "# Accuracy is the score of choice\n",
    "score = 'accuracy'\n",
    "\n",
    "print(\"# Tuning hyper-parameters for %s\" % score)\n",
    "svm_clf = GridSearchCV(SVC(), param_grid, cv=5,\n",
    "                      scoring= score)\n",
    "svm_clf.fit(X_train_df, y_train.argmax(axis=1))\n",
    "\n",
    "print(\"Best parameters set found using cross-validation:\")\n",
    "print()\n",
    "print(svm_clf.best_params_)\n",
    "print()\n",
    "print(\"Grid scores on cross-validation:\")\n",
    "print()\n",
    "means = svm_clf.cv_results_['mean_test_score']\n",
    "stds = svm_clf.cv_results_['std_test_score']\n",
    "for mean, std, params in zip(means, stds, svm_clf.cv_results_['params']):\n",
    "    print(\"%0.3f (+/-%0.03f) for %r\"\n",
    "          % (mean, std * 2, params))\n",
    "print()"
   ]
  },
  {
   "cell_type": "code",
   "execution_count": 54,
   "metadata": {},
   "outputs": [],
   "source": [
    "# Predict for the test set using the best possible combination of parameters \n",
    "# from the parameter grid in the previous step\n",
    "y_pred_test = svm_clf.predict(X_test_df)"
   ]
  },
  {
   "cell_type": "code",
   "execution_count": 55,
   "metadata": {},
   "outputs": [
    {
     "name": "stdout",
     "output_type": "stream",
     "text": [
      "------------------------------------------------------------\n",
      "Accuracy in the test set: 0.918\n",
      "------------------------------------------------------------\n",
      "Confusion matrix, without normalization\n",
      "[[619  27   2]\n",
      " [ 24 503  31]\n",
      " [  2  29 163]]\n",
      "------------------------------------------------------------\n",
      "Normalized confusion matrix\n",
      "[[0.96 0.04 0.  ]\n",
      " [0.04 0.9  0.06]\n",
      " [0.01 0.15 0.84]]\n"
     ]
    },
    {
     "data": {
      "image/png": "[encoded data removed]",
      "text/plain": [
       "<Figure size 432x288 with 2 Axes>"
      ]
     },
     "metadata": {},
     "output_type": "display_data"
    },
    {
     "data": {
      "image/png": "[encoded data removed]",
      "text/plain": [
       "<Figure size 432x288 with 2 Axes>"
      ]
     },
     "metadata": {},
     "output_type": "display_data"
    }
   ],
   "source": [
    "# Evaluate model\n",
    "np.set_printoptions(precision=2)\n",
    "print(\"------------------------------------------------------------\")\n",
    "# Accuracy in the test set\n",
    "print(\"Accuracy in the test set: \" + \"%0.3f\" % (accuracy_score(y_test.argmax(axis=1), y_pred_test)))\n",
    "print(\"------------------------------------------------------------\")\n",
    "# Plot non-normalized confusion matrix\n",
    "#plot_confusion_matrix(y_test.argmax(axis=1), y_pred_test.argmax(axis=1), classes=label_names,\n",
    "plot_confusion_matrix(y_test.argmax(axis=1), y_pred_test, classes=label_names,\n",
    "                      title='Confusion matrix, without normalization')\n",
    "print(\"------------------------------------------------------------\")\n",
    "# Plot normalized confusion matrix\n",
    "#plot_confusion_matrix(y_test.argmax(axis=1), y_pred_test.argmax(axis=1), classes=label_names, normalize=True,\n",
    "plot_confusion_matrix(y_test.argmax(axis=1), y_pred_test, classes=label_names, normalize=True,\n",
    "                      title='Normalized confusion matrix')\n",
    "\n",
    "plt.show()"
   ]
  },
  {
   "cell_type": "code",
   "execution_count": 56,
   "metadata": {},
   "outputs": [
    {
     "name": "stdout",
     "output_type": "stream",
     "text": [
      "Precision: 0.9180828452515685\n",
      "Recall: 0.9178571428571428\n",
      "F1 score: 0.9179642743717087\n"
     ]
    }
   ],
   "source": [
    "# Print more classification scores\n",
    "sc_precision, sc_recall, sc_f1score, support = precision_recall_fscore_support(y_test.argmax(axis=1), y_pred_test, average='weighted')\n",
    "print(\"Precision: \"+str(sc_precision))\n",
    "print(\"Recall: \"+str(sc_recall))\n",
    "print(\"F1 score: \"+str(sc_f1score))"
   ]
  },
  {
   "cell_type": "markdown",
   "metadata": {},
   "source": [
    "## Train and evaluate a Naive Bayes classifier"
   ]
  },
  {
   "cell_type": "code",
   "execution_count": 57,
   "metadata": {},
   "outputs": [
    {
     "name": "stdout",
     "output_type": "stream",
     "text": [
      "# Tuning hyper-parameters for accuracy\n",
      "Best parameters set found using cross-validation:\n",
      "\n",
      "{'var_smoothing': 0.01}\n",
      "\n",
      "Grid scores on cross-validation:\n",
      "\n",
      "0.955 (+/-0.029) for {'var_smoothing': 0.001}\n",
      "0.955 (+/-0.028) for {'var_smoothing': 0.01}\n",
      "0.955 (+/-0.027) for {'var_smoothing': 0.1}\n",
      "0.954 (+/-0.028) for {'var_smoothing': 1}\n",
      "0.838 (+/-0.018) for {'var_smoothing': 10.0}\n",
      "0.452 (+/-0.000) for {'var_smoothing': 100.0}\n",
      "0.452 (+/-0.000) for {'var_smoothing': 1000.0}\n",
      "\n"
     ]
    }
   ],
   "source": [
    "from sklearn.naive_bayes import GaussianNB\n",
    "\n",
    "# Tune main hyperparameters by grid search and cross-validation\n",
    "param_grid = [{'var_smoothing': [1e-3, 1e-2, 1e-1, 1, 1e1, 1e2, 1e3]}]\n",
    "\n",
    "# Accuracy is the score of choice\n",
    "score = 'accuracy'\n",
    "\n",
    "print(\"# Tuning hyper-parameters for %s\" % score)\n",
    "nb_clf = GridSearchCV(GaussianNB(), param_grid, cv=5,\n",
    "                      scoring= score)\n",
    "nb_clf.fit(X_train_df, y_train.argmax(axis=1))\n",
    "\n",
    "print(\"Best parameters set found using cross-validation:\")\n",
    "print()\n",
    "print(nb_clf.best_params_)\n",
    "print()\n",
    "print(\"Grid scores on cross-validation:\")\n",
    "print()\n",
    "means = nb_clf.cv_results_['mean_test_score']\n",
    "stds = nb_clf.cv_results_['std_test_score']\n",
    "for mean, std, params in zip(means, stds, nb_clf.cv_results_['params']):\n",
    "    print(\"%0.3f (+/-%0.03f) for %r\"\n",
    "          % (mean, std * 2, params))\n",
    "print()"
   ]
  },
  {
   "cell_type": "code",
   "execution_count": 58,
   "metadata": {},
   "outputs": [],
   "source": [
    "# Predict for the test set using the best possible combination of parameters \n",
    "# from the parameter grid in the previous step\n",
    "y_pred_test = nb_clf.predict(X_test_df)"
   ]
  },
  {
   "cell_type": "code",
   "execution_count": 59,
   "metadata": {},
   "outputs": [
    {
     "name": "stdout",
     "output_type": "stream",
     "text": [
      "------------------------------------------------------------\n",
      "Accuracy in the test set: 0.912\n",
      "------------------------------------------------------------\n",
      "Confusion matrix, without normalization\n",
      "[[615  30   3]\n",
      " [ 26 498  34]\n",
      " [  1  29 164]]\n",
      "------------------------------------------------------------\n",
      "Normalized confusion matrix\n",
      "[[0.95 0.05 0.  ]\n",
      " [0.05 0.89 0.06]\n",
      " [0.01 0.15 0.85]]\n"
     ]
    },
    {
     "data": {
      "image/png": "[encoded data removed]",
      "text/plain": [
       "<Figure size 432x288 with 2 Axes>"
      ]
     },
     "metadata": {},
     "output_type": "display_data"
    },
    {
     "data": {
      "image/png": "[encoded data removed]",
      "text/plain": [
       "<Figure size 432x288 with 2 Axes>"
      ]
     },
     "metadata": {},
     "output_type": "display_data"
    }
   ],
   "source": [
    "# Evaluate model\n",
    "np.set_printoptions(precision=2)\n",
    "print(\"------------------------------------------------------------\")\n",
    "# Accuracy in the test set\n",
    "print(\"Accuracy in the test set: \" + \"%0.3f\" % (accuracy_score(y_test.argmax(axis=1), y_pred_test)))\n",
    "print(\"------------------------------------------------------------\")\n",
    "# Plot non-normalized confusion matrix\n",
    "#plot_confusion_matrix(y_test.argmax(axis=1), y_pred_test.argmax(axis=1), classes=label_names,\n",
    "plot_confusion_matrix(y_test.argmax(axis=1), y_pred_test, classes=label_names,\n",
    "                      title='Confusion matrix, without normalization')\n",
    "print(\"------------------------------------------------------------\")\n",
    "# Plot normalized confusion matrix\n",
    "#plot_confusion_matrix(y_test.argmax(axis=1), y_pred_test.argmax(axis=1), classes=label_names, normalize=True,\n",
    "plot_confusion_matrix(y_test.argmax(axis=1), y_pred_test, classes=label_names, normalize=True,\n",
    "                      title='Normalized confusion matrix')\n",
    "\n",
    "plt.show()"
   ]
  },
  {
   "cell_type": "code",
   "execution_count": 60,
   "metadata": {},
   "outputs": [
    {
     "name": "stdout",
     "output_type": "stream",
     "text": [
      "Precision: 0.91280735440663\n",
      "Recall: 0.9121428571428571\n",
      "F1 score: 0.9124291234097539\n"
     ]
    }
   ],
   "source": [
    "# Print more classification scores\n",
    "sc_precision, sc_recall, sc_f1score, support = precision_recall_fscore_support(y_test.argmax(axis=1), y_pred_test, average='weighted')\n",
    "print(\"Precision: \"+str(sc_precision))\n",
    "print(\"Recall: \"+str(sc_recall))\n",
    "print(\"F1 score: \"+str(sc_f1score))"
   ]
  },
  {
   "cell_type": "code",
   "execution_count": 61,
   "metadata": {},
   "outputs": [],
   "source": []
  }
 ],
 "metadata": {
  "kernelspec": {
   "display_name": "Python 3",
   "language": "python",
   "name": "python3"
  },
  "language_info": {
   "codemirror_mode": {
    "name": "ipython",
    "version": 3
   },
   "file_extension": ".py",
   "mimetype": "text/x-python",
   "name": "python",
   "nbconvert_exporter": "python",
   "pygments_lexer": "ipython3",
   "version": "3.6.4"
  }
 },
 "nbformat": 4,
 "nbformat_minor": 1
}
