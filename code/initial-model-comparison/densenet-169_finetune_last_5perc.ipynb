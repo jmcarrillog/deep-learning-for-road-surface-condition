{
 "cells": [
  {
   "cell_type": "markdown",
   "metadata": {
    "_uuid": "1d9539215c52a8206c18eaebb0d6045087c76d74"
   },
   "source": [
    "# **FINETUNING DENSENET169 MODEL FOR DETERMINING RSC**"
   ]
  },
  {
   "cell_type": "markdown",
   "metadata": {
    "_uuid": "a3bae869c049172a16bd52f66438861590b9006a"
   },
   "source": [
    "## **Import libraries**"
   ]
  },
  {
   "cell_type": "code",
   "execution_count": 1,
   "metadata": {
    "_cell_guid": "b1076dfc-b9ad-4769-8c92-a6c4dae69d19",
    "_uuid": "8f2839f25d086af736a60e9eeb907d3b93b6e0e5"
   },
   "outputs": [],
   "source": [
    "# Libraries for file and data handling\n",
    "%matplotlib inline\n",
    "import os, sys\n",
    "import numpy as np \n",
    "import pandas as pd\n",
    "import matplotlib\n",
    "import matplotlib.pyplot as plt\n",
    "from scipy import misc\n",
    "import imageio\n",
    "from IPython.display import display\n",
    "from IPython.display import Image as _Imgdis\n",
    "from PIL import Image\n",
    "import pickle\n",
    "from random import shuffle, seed\n",
    "seed(1)"
   ]
  },
  {
   "cell_type": "markdown",
   "metadata": {
    "_cell_guid": "79c7e3d0-c299-4dcb-8224-4455121ee9b0",
    "_uuid": "d629ff2d2480ee46fbb7e2d37f6b5fab8052498a"
   },
   "source": [
    "## **Data preparation**"
   ]
  },
  {
   "cell_type": "code",
   "execution_count": 2,
   "metadata": {},
   "outputs": [],
   "source": [
    "# Load the lists detailing the train and test files\n",
    "with open('../input/rwis-data-split/split.pickle', 'rb') as handle:\n",
    "    split_dic = pickle.load(handle)"
   ]
  },
  {
   "cell_type": "code",
   "execution_count": 3,
   "metadata": {},
   "outputs": [
    {
     "name": "stdout",
     "output_type": "stream",
     "text": [
      "Images in train set:12600\n",
      "Images in test set:1400\n"
     ]
    }
   ],
   "source": [
    "# Obtain the lists\n",
    "train = split_dic['train']\n",
    "print('Images in train set:' + str(len(train)))\n",
    "test = split_dic['test']\n",
    "print('Images in test set:' + str(len(test)))"
   ]
  },
  {
   "cell_type": "code",
   "execution_count": 4,
   "metadata": {},
   "outputs": [],
   "source": [
    "# Image dimensions\n",
    "image_height = 224\n",
    "image_width = 224\n",
    "channels = 3\n",
    "display_images = True"
   ]
  },
  {
   "cell_type": "code",
   "execution_count": 5,
   "metadata": {},
   "outputs": [],
   "source": [
    "label_names = ['Bare pavement', 'Partial snow coverage', 'Full snow coverage']"
   ]
  },
  {
   "cell_type": "code",
   "execution_count": 6,
   "metadata": {},
   "outputs": [],
   "source": [
    "# Function that prints the total number of images per category in the given set\n",
    "def print_items(list_of_files):\n",
    "    cat1 = 0\n",
    "    cat2 = 0\n",
    "    cat3 = 0\n",
    "    for ifile in list_of_files:\n",
    "        if 'C1' in ifile:\n",
    "            cat1 += 1\n",
    "        elif 'C2' in ifile:\n",
    "            cat2 += 1\n",
    "        elif 'C3' in ifile:\n",
    "            cat3 += 1\n",
    "    total = cat1+cat2+cat3\n",
    "    print ('Total images: ' + str(total))\n",
    "    print (label_names[0] + ' ' + str(cat1) + ' Approx. ' + str(int(cat1/total*100)) + '%')\n",
    "    print (label_names[1] + ' ' + str(cat2) + ' Approx. ' + str(int(cat2/total*100)) + '%')\n",
    "    print (label_names[2] + ' ' + str(cat3) + ' Approx. ' + str(int(cat3/total*100)) + '%')"
   ]
  },
  {
   "cell_type": "code",
   "execution_count": 7,
   "metadata": {},
   "outputs": [
    {
     "name": "stdout",
     "output_type": "stream",
     "text": [
      "- Summary of images in the train set -\n",
      "Total images: 12600\n",
      "Bare pavement 5691 Approx. 45%\n",
      "Partial snow coverage 5114 Approx. 40%\n",
      "Full snow coverage 1795 Approx. 14%\n"
     ]
    }
   ],
   "source": [
    "print('- Summary of images in the train set -')\n",
    "print_items(train)"
   ]
  },
  {
   "cell_type": "code",
   "execution_count": 8,
   "metadata": {},
   "outputs": [
    {
     "name": "stdout",
     "output_type": "stream",
     "text": [
      "- Summary of images in the test set -\n",
      "Total images: 1400\n",
      "Bare pavement 648 Approx. 46%\n",
      "Partial snow coverage 558 Approx. 39%\n",
      "Full snow coverage 194 Approx. 13%\n"
     ]
    }
   ],
   "source": [
    "print('- Summary of images in the test set -')\n",
    "print_items(test)"
   ]
  },
  {
   "cell_type": "code",
   "execution_count": 9,
   "metadata": {},
   "outputs": [],
   "source": [
    "# Function that outputs the list of all files in the directory tree \n",
    "def getListOfFiles(dirName):\n",
    "    # create a list of file and sub directories \n",
    "    # names in the given directory \n",
    "    listOfFile = os.listdir(dirName)\n",
    "    allFiles = list()\n",
    "    # Iterate over all the entries\n",
    "    for entry in listOfFile:\n",
    "        # Create full path\n",
    "        fullPath = os.path.join(dirName, entry)\n",
    "        # If entry is a directory then get the list of files in this directory \n",
    "        if os.path.isdir(fullPath):\n",
    "            allFiles = allFiles + getListOfFiles(fullPath)\n",
    "        else:\n",
    "            if '.jpg' in fullPath :\n",
    "                allFiles.append(fullPath)    \n",
    "    return allFiles"
   ]
  },
  {
   "cell_type": "code",
   "execution_count": 10,
   "metadata": {},
   "outputs": [],
   "source": [
    "# Function to use the list of image filenames and import images into numpy X and Y arrays\n",
    "def getArrays(folder, list_of_files):\n",
    "    \n",
    "    # Number of images in the list\n",
    "    numim = len(list_of_files)\n",
    "    # Prepare array for the images\n",
    "    images_array = np.ndarray(shape=(numim, image_height, image_width, channels), dtype=np.float16)\n",
    "    # Prepare array for the labels\n",
    "    labels_array = np.ndarray(shape = numim,dtype=np.uint8)\n",
    "    # Set some counters\n",
    "    idx_files = 0\n",
    "    completion = 20\n",
    "    \n",
    "    # Loop over the filenames\n",
    "    for ifile in list_of_files:\n",
    "        fullpath = folder + ifile\n",
    "        # From filename to numpy array\n",
    "        img_arr = imageio.imread(fullpath)\n",
    "        images_array[idx_files] = img_arr / 255.0\n",
    "        # Obtain label from filename\n",
    "        if '/C1/' in ifile:\n",
    "            label = 0\n",
    "        elif '/C2/' in ifile:\n",
    "            label = 1\n",
    "        elif '/C3/' in ifile:\n",
    "            label = 2\n",
    "        labels_array[idx_files] = label\n",
    "        idx_files += 1\n",
    "        \n",
    "        # Print % of completion\n",
    "        if (idx_files+1) % (numim//5) == 0:\n",
    "            print('Completed ' + str(completion) + '%')\n",
    "            completion += 20\n",
    "\n",
    "    return images_array, labels_array"
   ]
  },
  {
   "cell_type": "code",
   "execution_count": 11,
   "metadata": {},
   "outputs": [],
   "source": [
    "folder = \"../input/rwis224/rwis224/rwis224\""
   ]
  },
  {
   "cell_type": "code",
   "execution_count": 12,
   "metadata": {},
   "outputs": [
    {
     "name": "stdout",
     "output_type": "stream",
     "text": [
      "Completed 20%\n",
      "Completed 40%\n",
      "Completed 60%\n",
      "Completed 80%\n",
      "Completed 100%\n",
      "X_train shape is (12600, 224, 224, 3)\n",
      "y_train shape is (12600,)\n"
     ]
    }
   ],
   "source": [
    "# Import the corresponding images into numpy arrays \n",
    "X_train, y_train = getArrays(folder, train)\n",
    "print('X_train shape is ' + str(X_train.shape))\n",
    "print('y_train shape is ' + str(y_train.shape))"
   ]
  },
  {
   "cell_type": "code",
   "execution_count": 13,
   "metadata": {},
   "outputs": [
    {
     "name": "stdout",
     "output_type": "stream",
     "text": [
      "Completed 20%\n",
      "Completed 40%\n",
      "Completed 60%\n",
      "Completed 80%\n",
      "Completed 100%\n",
      "X_test shape is (1400, 224, 224, 3)\n",
      "y_test shape is (1400,)\n"
     ]
    }
   ],
   "source": [
    "# Import the corresponding images into numpy arrays \n",
    "X_test, y_test = getArrays(folder, test)\n",
    "print('X_test shape is ' + str(X_test.shape))\n",
    "print('y_test shape is ' + str(y_test.shape))"
   ]
  },
  {
   "cell_type": "code",
   "execution_count": 14,
   "metadata": {},
   "outputs": [
    {
     "name": "stdout",
     "output_type": "stream",
     "text": [
      "/ER-14/C2/ER-Hwy401_Curry_Hill-p3-1515260700.jpg\n"
     ]
    },
    {
     "data": {
      "image/jpeg": "[encoded data removed]",
      "text/plain": [
       "<IPython.core.display.Image object>"
      ]
     },
     "metadata": {
      "image/jpeg": {
       "height": 224,
       "width": 224
      }
     },
     "output_type": "display_data"
    },
    {
     "name": "stdout",
     "output_type": "stream",
     "text": [
      "/ER-32/C3/ER-Hwy416_Rideau_River-p3-1515841200.jpg\n"
     ]
    },
    {
     "data": {
      "image/jpeg": "[encoded data removed]",
      "text/plain": [
       "<IPython.core.display.Image object>"
      ]
     },
     "metadata": {
      "image/jpeg": {
       "height": 224,
       "width": 224
      }
     },
     "output_type": "display_data"
    }
   ],
   "source": [
    "# Display some images from the train set\n",
    "if display_images:    \n",
    "    for i in range(0, 2):\n",
    "        print(train[i])\n",
    "        display(_Imgdis(filename=folder+train[i], width = image_width, height = image_height))"
   ]
  },
  {
   "cell_type": "code",
   "execution_count": 15,
   "metadata": {},
   "outputs": [
    {
     "name": "stdout",
     "output_type": "stream",
     "text": [
      "/CR-19/C2/CR-Hwy401_near_Newtonville_Rd-p1-1513948500.jpg\n"
     ]
    },
    {
     "data": {
      "image/jpeg": "[encoded data removed]",
      "text/plain": [
       "<IPython.core.display.Image object>"
      ]
     },
     "metadata": {
      "image/jpeg": {
       "height": 224,
       "width": 224
      }
     },
     "output_type": "display_data"
    },
    {
     "name": "stdout",
     "output_type": "stream",
     "text": [
      "/NER-14/C1/NER-Hwy11_Marten_River-p1-1515527100.jpg\n"
     ]
    },
    {
     "data": {
      "image/jpeg": "[encoded data removed]",
      "text/plain": [
       "<IPython.core.display.Image object>"
      ]
     },
     "metadata": {
      "image/jpeg": {
       "height": 224,
       "width": 224
      }
     },
     "output_type": "display_data"
    }
   ],
   "source": [
    "# Display some images from the test set\n",
    "if display_images:\n",
    "    for i in range(0, 2):\n",
    "        print(test[i])\n",
    "        display(_Imgdis(filename=folder+test[i], width = image_width, height = image_height))"
   ]
  },
  {
   "cell_type": "markdown",
   "metadata": {
    "_uuid": "fc0783ecde5a919142cf4fe58aa99069fe1ee6c5"
   },
   "source": [
    "## **Model preparation**"
   ]
  },
  {
   "cell_type": "code",
   "execution_count": 16,
   "metadata": {
    "_uuid": "0625cf058cd9028498ca6145bb6b97292ae4e386"
   },
   "outputs": [
    {
     "name": "stderr",
     "output_type": "stream",
     "text": [
      "Using TensorFlow backend.\n"
     ]
    }
   ],
   "source": [
    "#Import model specific libraries\n",
    "from keras.applications.densenet import DenseNet169\n",
    "from keras.preprocessing import image\n",
    "from keras.models import Model\n",
    "from keras.layers import Dense, GlobalAveragePooling2D\n",
    "from keras import backend as K"
   ]
  },
  {
   "cell_type": "code",
   "execution_count": 17,
   "metadata": {
    "_uuid": "02b9c493c03a60b67f95e61a25e2f530ecee9607"
   },
   "outputs": [],
   "source": [
    "# Import other Keras libraries\n",
    "from time import time\n",
    "from keras.utils import np_utils\n",
    "from keras.models import Sequential\n",
    "from keras.layers import Dense, Dropout, Flatten, Input\n",
    "from keras.constraints import maxnorm\n",
    "from keras import optimizers\n",
    "from keras.utils import to_categorical\n",
    "from keras.layers.convolutional import Conv2D, MaxPooling2D\n",
    "from keras.callbacks import TensorBoard"
   ]
  },
  {
   "cell_type": "code",
   "execution_count": 18,
   "metadata": {
    "_uuid": "9774c3a243fd80ebbf9b9f7b4bdc2363e3ef774f"
   },
   "outputs": [],
   "source": [
    "# fix random seed for reproducibility\n",
    "seed = 7\n",
    "np.random.seed(seed)"
   ]
  },
  {
   "cell_type": "code",
   "execution_count": 19,
   "metadata": {
    "_uuid": "ac3fb849084961bb762a3aca87d9d299b834a319"
   },
   "outputs": [],
   "source": [
    "# Convert class vectors to binary class matrices.\n",
    "num_classes = 3\n",
    "y_train = to_categorical(y_train, num_classes)\n",
    "y_test = to_categorical(y_test, num_classes)"
   ]
  },
  {
   "cell_type": "code",
   "execution_count": 20,
   "metadata": {
    "_uuid": "5e890731b227abf09f640194b84c8bd8e094538a"
   },
   "outputs": [
    {
     "name": "stdout",
     "output_type": "stream",
     "text": [
      "(12600, 3)\n",
      "(1400, 3)\n"
     ]
    }
   ],
   "source": [
    "print(y_train.shape)\n",
    "print(y_test.shape)"
   ]
  },
  {
   "cell_type": "markdown",
   "metadata": {
    "_uuid": "1d40bb5f260c834e62b34f545b07c634ec4cdebd"
   },
   "source": [
    "**Defining the CNN architecture**"
   ]
  },
  {
   "cell_type": "code",
   "execution_count": 21,
   "metadata": {
    "_uuid": "f5e906a3795d47dfe497565112c5dbaaadf84881"
   },
   "outputs": [],
   "source": [
    "#  Import the base model for transfer learning\n",
    "weights_source = '../input/densenet169weights/densenet169_weights_tf_dim_ordering_tf_kernels_notop.h5'"
   ]
  },
  {
   "cell_type": "code",
   "execution_count": 22,
   "metadata": {
    "_uuid": "69a8d3bc79cb17f6641048b040813c6c11b5420d"
   },
   "outputs": [
    {
     "name": "stdout",
     "output_type": "stream",
     "text": [
      "WARNING:tensorflow:From /opt/conda/lib/python3.6/site-packages/tensorflow/python/framework/op_def_library.py:263: colocate_with (from tensorflow.python.framework.ops) is deprecated and will be removed in a future version.\n",
      "Instructions for updating:\n",
      "Colocations handled automatically by placer.\n"
     ]
    }
   ],
   "source": [
    "# create the base pre-trained model\n",
    "base_model = DenseNet169(weights=weights_source, include_top=False, input_shape=(image_height,image_width,channels))"
   ]
  },
  {
   "cell_type": "code",
   "execution_count": 23,
   "metadata": {},
   "outputs": [
    {
     "name": "stdout",
     "output_type": "stream",
     "text": [
      "Number of layers in the base model: 595\n"
     ]
    }
   ],
   "source": [
    "print(\"Number of layers in the base model: \"+str(len(base_model.layers)))"
   ]
  },
  {
   "cell_type": "code",
   "execution_count": 24,
   "metadata": {},
   "outputs": [],
   "source": [
    "view_model = False\n",
    "if view_model:\n",
    "    print(base_model.summary())"
   ]
  },
  {
   "cell_type": "code",
   "execution_count": 25,
   "metadata": {
    "_uuid": "f8adb9a96c69ee7d27c679f771be62035e41f6da"
   },
   "outputs": [
    {
     "name": "stdout",
     "output_type": "stream",
     "text": [
      "WARNING:tensorflow:From /opt/conda/lib/python3.6/site-packages/keras/backend/tensorflow_backend.py:3445: calling dropout (from tensorflow.python.ops.nn_ops) with keep_prob is deprecated and will be removed in a future version.\n",
      "Instructions for updating:\n",
      "Please use `rate` instead of `keep_prob`. Rate should be set to `rate = 1 - keep_prob`.\n"
     ]
    }
   ],
   "source": [
    "# Use output from base model\n",
    "x = base_model.output\n",
    "# Use same \"head\" or classifier as the baseline model\n",
    "x = Dropout(0.5)(x)\n",
    "x = Flatten()(x)\n",
    "x = Dense(48, activation='relu')(x)\n",
    "x = Dropout(0.5)(x)\n",
    "x = Dense(24, activation='relu')(x)\n",
    "x = Dropout(0.5)(x)\n",
    "predictions = Dense(3, activation='softmax')(x)\n",
    "\n",
    "# this is the model we will train\n",
    "model = Model(inputs=base_model.input, outputs=predictions)"
   ]
  },
  {
   "cell_type": "code",
   "execution_count": 26,
   "metadata": {},
   "outputs": [
    {
     "name": "stdout",
     "output_type": "stream",
     "text": [
      "Number of layers in the whole model: 602\n"
     ]
    }
   ],
   "source": [
    "print(\"Number of layers in the whole model: \"+str(len(model.layers)))"
   ]
  },
  {
   "cell_type": "code",
   "execution_count": 27,
   "metadata": {},
   "outputs": [],
   "source": [
    "view_model = False\n",
    "if view_model:\n",
    "    print(model.summary())"
   ]
  },
  {
   "cell_type": "markdown",
   "metadata": {
    "_uuid": "c7fbcf10e60c48fb76767c63cdd54817e6c1d1a4"
   },
   "source": [
    "## **Model training**"
   ]
  },
  {
   "cell_type": "markdown",
   "metadata": {},
   "source": [
    "In this case we finetune the last 5% of the base model in addition to the \"head\". But first we freeze the base_model and initialize the parameters in the \"head\" by running one epoch with just the layers in the \"head\" configured as trainable. Then we unfreeze the last 5% of the base_model and run 50 epochs."
   ]
  },
  {
   "cell_type": "code",
   "execution_count": 28,
   "metadata": {},
   "outputs": [],
   "source": [
    "# Set all layers in the base model as not trainable\n",
    "for layer in base_model.layers:\n",
    "    layer.trainable = False\n",
    "\n",
    "# compile the model (should be done *after* setting layers to non-trainable)\n",
    "opt = optimizers.SGD(lr=0.001, momentum=0.9, nesterov=True)\n",
    "model.compile(loss='categorical_crossentropy', optimizer=opt, metrics=['accuracy'])"
   ]
  },
  {
   "cell_type": "code",
   "execution_count": 29,
   "metadata": {},
   "outputs": [],
   "source": [
    "batch_size = 32\n",
    "# Initialization for the \"head\"\n",
    "epochs = 1"
   ]
  },
  {
   "cell_type": "code",
   "execution_count": 30,
   "metadata": {},
   "outputs": [
    {
     "name": "stdout",
     "output_type": "stream",
     "text": [
      "WARNING:tensorflow:From /opt/conda/lib/python3.6/site-packages/tensorflow/python/ops/math_ops.py:3066: to_int32 (from tensorflow.python.ops.math_ops) is deprecated and will be removed in a future version.\n",
      "Instructions for updating:\n",
      "Use tf.cast instead.\n",
      "Train on 10080 samples, validate on 2520 samples\n",
      "Epoch 1/1\n",
      "10080/10080 [==============================] - 53s 5ms/step - loss: 1.0757 - acc: 0.4512 - val_loss: 1.0108 - val_acc: 0.4520\n"
     ]
    },
    {
     "data": {
      "text/plain": [
       "<keras.callbacks.History at 0x7fd1ae343b00>"
      ]
     },
     "execution_count": 30,
     "metadata": {},
     "output_type": "execute_result"
    }
   ],
   "source": [
    "model.fit(x=X_train, y=y_train, batch_size=batch_size, \n",
    "                      epochs=epochs, verbose=1,\n",
    "                      validation_split = 0.2,\n",
    "                      shuffle=True)"
   ]
  },
  {
   "cell_type": "code",
   "execution_count": 31,
   "metadata": {},
   "outputs": [
    {
     "name": "stdout",
     "output_type": "stream",
     "text": [
      "Total number of layers in base model: 595\n",
      "Keep up to layer #566 as non-trainable\n"
     ]
    }
   ],
   "source": [
    "# Finetune the last 5% of the base model\n",
    "finetune_percentage = 5\n",
    "print(\"Total number of layers in base model: \" + str(len(base_model.layers)))\n",
    "threshold_layer = len(base_model.layers) - (len(base_model.layers)*finetune_percentage)//100\n",
    "print(\"Keep up to layer #\"+str(threshold_layer)+\" as non-trainable\")\n",
    "for layer in base_model.layers[:threshold_layer]:\n",
    "   layer.trainable = False\n",
    "for layer in base_model.layers[threshold_layer:]:\n",
    "   layer.trainable = True\n",
    "# Recompile before resuming training\n",
    "model.compile(loss='categorical_crossentropy', optimizer=opt, metrics=['accuracy'])"
   ]
  },
  {
   "cell_type": "code",
   "execution_count": 32,
   "metadata": {},
   "outputs": [],
   "source": [
    "# All training\n",
    "epochs = 50"
   ]
  },
  {
   "cell_type": "code",
   "execution_count": 33,
   "metadata": {},
   "outputs": [
    {
     "name": "stdout",
     "output_type": "stream",
     "text": [
      "Train on 10080 samples, validate on 2520 samples\n",
      "Epoch 1/50\n",
      "10080/10080 [==============================] - 52s 5ms/step - loss: 1.0076 - acc: 0.4437 - val_loss: 1.0068 - val_acc: 0.4480\n",
      "Epoch 2/50\n",
      "10080/10080 [==============================] - 43s 4ms/step - loss: 1.0035 - acc: 0.4506 - val_loss: 1.0063 - val_acc: 0.4484\n",
      "Epoch 3/50\n",
      "10080/10080 [==============================] - 43s 4ms/step - loss: 1.0024 - acc: 0.4459 - val_loss: 1.0054 - val_acc: 0.4500\n",
      "Epoch 4/50\n",
      "10080/10080 [==============================] - 42s 4ms/step - loss: 1.0012 - acc: 0.4518 - val_loss: 1.0051 - val_acc: 0.4484\n",
      "Epoch 5/50\n",
      "10080/10080 [==============================] - 43s 4ms/step - loss: 0.9964 - acc: 0.4567 - val_loss: 0.9909 - val_acc: 0.4611\n",
      "Epoch 6/50\n",
      "10080/10080 [==============================] - 42s 4ms/step - loss: 0.9919 - acc: 0.4640 - val_loss: 0.9916 - val_acc: 0.4615\n",
      "Epoch 7/50\n",
      "10080/10080 [==============================] - 42s 4ms/step - loss: 0.9728 - acc: 0.4739 - val_loss: 0.9974 - val_acc: 0.4536\n",
      "Epoch 8/50\n",
      "10080/10080 [==============================] - 42s 4ms/step - loss: 0.9545 - acc: 0.4851 - val_loss: 0.9808 - val_acc: 0.4651\n",
      "Epoch 9/50\n",
      "10080/10080 [==============================] - 42s 4ms/step - loss: 0.9393 - acc: 0.4938 - val_loss: 0.9185 - val_acc: 0.5099\n",
      "Epoch 10/50\n",
      "10080/10080 [==============================] - 42s 4ms/step - loss: 0.9210 - acc: 0.5111 - val_loss: 0.8985 - val_acc: 0.5413\n",
      "Epoch 11/50\n",
      "10080/10080 [==============================] - 43s 4ms/step - loss: 0.9076 - acc: 0.5291 - val_loss: 0.8965 - val_acc: 0.5520\n",
      "Epoch 12/50\n",
      "10080/10080 [==============================] - 42s 4ms/step - loss: 0.8756 - acc: 0.5661 - val_loss: 0.8687 - val_acc: 0.5952\n",
      "Epoch 13/50\n",
      "10080/10080 [==============================] - 42s 4ms/step - loss: 0.8565 - acc: 0.5954 - val_loss: 0.8662 - val_acc: 0.6111\n",
      "Epoch 14/50\n",
      "10080/10080 [==============================] - 43s 4ms/step - loss: 0.8312 - acc: 0.6131 - val_loss: 0.9760 - val_acc: 0.5718\n",
      "Epoch 15/50\n",
      "10080/10080 [==============================] - 42s 4ms/step - loss: 0.8119 - acc: 0.6292 - val_loss: 0.8771 - val_acc: 0.6298\n",
      "Epoch 16/50\n",
      "10080/10080 [==============================] - 43s 4ms/step - loss: 0.7995 - acc: 0.6395 - val_loss: 0.9361 - val_acc: 0.6262\n",
      "Epoch 17/50\n",
      "10080/10080 [==============================] - 43s 4ms/step - loss: 0.7490 - acc: 0.6526 - val_loss: 0.8157 - val_acc: 0.6488\n",
      "Epoch 18/50\n",
      "10080/10080 [==============================] - 43s 4ms/step - loss: 0.7165 - acc: 0.6633 - val_loss: 0.8324 - val_acc: 0.6615\n",
      "Epoch 19/50\n",
      "10080/10080 [==============================] - 43s 4ms/step - loss: 0.6858 - acc: 0.6689 - val_loss: 0.8421 - val_acc: 0.6683\n",
      "Epoch 20/50\n",
      " 2144/10080 [=====>........................] - ETA: 26s - loss: 0.6745 - acc: 0.6698"
     ]
    }
   ],
   "source": [
    "train_history = model.fit(x=X_train, y=y_train, batch_size=batch_size, \n",
    "                      epochs=epochs, verbose=1,\n",
    "                      validation_split = 0.2,\n",
    "                      shuffle=True)"
   ]
  },
  {
   "cell_type": "markdown",
   "metadata": {
    "_uuid": "1d81de93d2d68d345dd6cae77f1a4d42bf2e71e4"
   },
   "source": [
    "## **Evaluate results**"
   ]
  },
  {
   "cell_type": "code",
   "execution_count": 34,
   "metadata": {
    "_uuid": "d55dedb470f835ed7035e4322d659ddfd12a8ebc"
   },
   "outputs": [
    {
     "data": {
      "image/png": "[encoded data removed]",
      "text/plain": [
       "<Figure size 432x288 with 1 Axes>"
      ]
     },
     "metadata": {},
     "output_type": "display_data"
    }
   ],
   "source": [
    "# Get the values from the training history dictionary\n",
    "train_loss = train_history.history['loss'] \n",
    "val_loss = train_history.history['val_loss']\n",
    "\n",
    "# Plot the resulting loss\n",
    "plt.plot(range(1,1+len(train_loss)), train_loss)\n",
    "plt.plot(range(1,1+len(val_loss)), val_loss)\n",
    "plt.xticks(np.arange(1,1+len(train_loss),5))\n",
    "plt.title('Model loss')\n",
    "plt.ylabel('Loss')\n",
    "plt.xlabel('Epoch')\n",
    "plt.legend(['Train', 'Validation'], loc='upper left')\n",
    "axes = plt.gca()\n",
    "axes.set_xlim([1,len(train_loss)])\n",
    "axes.set_ylim([0,5])\n",
    "plt.show()"
   ]
  },
  {
   "cell_type": "code",
   "execution_count": 35,
   "metadata": {
    "_uuid": "fce403719398d79f1b7b4ae6bbac23425684954e"
   },
   "outputs": [
    {
     "data": {
      "image/png": "[encoded data removed]",
      "text/plain": [
       "<Figure size 432x288 with 1 Axes>"
      ]
     },
     "metadata": {},
     "output_type": "display_data"
    }
   ],
   "source": [
    "# Get the values from the training history dictionary\n",
    "train_acc = train_history.history['acc'] \n",
    "val_acc = train_history.history['val_acc']\n",
    "\n",
    "# Plot the resulting loss\n",
    "plt.plot(range(1,1+len(train_acc)), train_acc)\n",
    "plt.plot(range(1,1+len(val_acc)), val_acc)\n",
    "plt.xticks(np.arange(1,1+len(train_acc),5))\n",
    "plt.title('Model accuracy')\n",
    "plt.ylabel('Accuracy')\n",
    "plt.xlabel('Epoch')\n",
    "plt.legend(['Train', 'Validation'], loc='upper right')\n",
    "axes = plt.gca()\n",
    "axes.set_xlim([1,len(train_acc)])\n",
    "axes.set_ylim([0,1])\n",
    "plt.show()"
   ]
  },
  {
   "cell_type": "code",
   "execution_count": 36,
   "metadata": {
    "_uuid": "ffeb167fbd2d68ce727ef8fea4a10d3b012ee999"
   },
   "outputs": [
    {
     "name": "stdout",
     "output_type": "stream",
     "text": [
      "--Evaluation over the train and validation datasets--\n",
      "Final train loss: 0.4442\n",
      "Final validation loss: 1.9318\n",
      "Final train accuracy:  80.60%\n",
      "Final validation accuracy:  57.78%\n"
     ]
    }
   ],
   "source": [
    "print(\"--Evaluation over the train and validation datasets--\")\n",
    "print(\"Final train loss: \"+'{:6.4f}'.format(train_loss[-1]))   \n",
    "print(\"Final validation loss: \"+'{:6.4f}'.format(val_loss[-1]))   \n",
    "print(\"Final train accuracy: \"+'{:6.2f}'.format(train_acc[-1]*100)+'%')\n",
    "print(\"Final validation accuracy: \"+'{:6.2f}'.format(val_acc[-1]*100)+'%')"
   ]
  },
  {
   "cell_type": "code",
   "execution_count": 37,
   "metadata": {},
   "outputs": [
    {
     "name": "stdout",
     "output_type": "stream",
     "text": [
      "--Evaluation over the test dataset--\n",
      "Loss: 1.9709\n",
      "Accuracy:  56.93%\n"
     ]
    }
   ],
   "source": [
    "scores = model.evaluate(X_test, y_test, verbose=0)\n",
    "print(\"--Evaluation over the test dataset--\")\n",
    "print(\"Loss: \"+'{:6.4f}'.format(scores[0]))   \n",
    "print(\"Accuracy: \"+'{:6.2f}'.format(scores[1]*100)+'%')"
   ]
  },
  {
   "cell_type": "markdown",
   "metadata": {
    "_uuid": "8e1409de9f31a89246dc65c90c2b2c1958e2f975"
   },
   "source": [
    "### Save results"
   ]
  },
  {
   "cell_type": "code",
   "execution_count": 38,
   "metadata": {
    "_uuid": "b26ca9da7ba2470026f28595d91ab559cb1cd49d"
   },
   "outputs": [],
   "source": [
    "densenet169history_dic = {'train_loss':train_loss,\n",
    "                    'val_loss':val_loss,\n",
    "                     'train_acc':train_acc,\n",
    "                      'val_acc':val_acc}\n",
    "\n",
    "with open('densenet169history_5perc.pickle', 'wb') as handle:\n",
    "    pickle.dump(densenet169history_dic, handle, protocol=pickle.HIGHEST_PROTOCOL)"
   ]
  },
  {
   "cell_type": "code",
   "execution_count": 39,
   "metadata": {
    "_uuid": "421fbff47e641d6fffbdc92138e45c5e9ba9aa17"
   },
   "outputs": [],
   "source": []
  }
 ],
 "metadata": {
  "kernelspec": {
   "display_name": "Python 3",
   "language": "python",
   "name": "python3"
  },
  "language_info": {
   "codemirror_mode": {
    "name": "ipython",
    "version": 3
   },
   "file_extension": ".py",
   "mimetype": "text/x-python",
   "name": "python",
   "nbconvert_exporter": "python",
   "pygments_lexer": "ipython3",
   "version": "3.6.6"
  }
 },
 "nbformat": 4,
 "nbformat_minor": 1
}
