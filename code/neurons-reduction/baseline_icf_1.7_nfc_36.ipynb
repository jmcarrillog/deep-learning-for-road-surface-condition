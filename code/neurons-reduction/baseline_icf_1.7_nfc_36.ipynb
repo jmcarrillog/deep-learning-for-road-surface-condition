{
 "cells": [
  {
   "cell_type": "markdown",
   "metadata": {
    "_cell_guid": "b1076dfc-b9ad-4769-8c92-a6c4dae69d19",
    "_uuid": "8f2839f25d086af736a60e9eeb907d3b93b6e0e5"
   },
   "source": [
    "# BASELINE MODEL FOR RWIS RSC CLASSIFICATION"
   ]
  },
  {
   "cell_type": "markdown",
   "metadata": {
    "_cell_guid": "79c7e3d0-c299-4dcb-8224-4455121ee9b0",
    "_uuid": "d629ff2d2480ee46fbb7e2d37f6b5fab8052498a",
    "collapsed": true
   },
   "source": [
    "## Import libraries"
   ]
  },
  {
   "cell_type": "code",
   "execution_count": 1,
   "metadata": {},
   "outputs": [],
   "source": [
    "# Libraries for file and data handling\n",
    "%matplotlib inline\n",
    "import os, sys\n",
    "import numpy as np \n",
    "import pandas as pd\n",
    "import matplotlib\n",
    "import matplotlib.pyplot as plt\n",
    "from scipy import misc\n",
    "import imageio\n",
    "from IPython.display import display\n",
    "from IPython.display import Image as _Imgdis\n",
    "from PIL import Image\n",
    "import pickle\n",
    "from random import shuffle, seed\n",
    "seed(1)"
   ]
  },
  {
   "cell_type": "markdown",
   "metadata": {},
   "source": [
    "## Data preparation"
   ]
  },
  {
   "cell_type": "code",
   "execution_count": 2,
   "metadata": {},
   "outputs": [],
   "source": [
    "# Load the lists detailing the train and test files\n",
    "with open('../input/rwis-data-split/split.pickle', 'rb') as handle:\n",
    "    split_dic = pickle.load(handle)"
   ]
  },
  {
   "cell_type": "code",
   "execution_count": 3,
   "metadata": {},
   "outputs": [
    {
     "name": "stdout",
     "output_type": "stream",
     "text": [
      "Images in train set:12600\n",
      "Images in test set:1400\n"
     ]
    }
   ],
   "source": [
    "# Obtain the lists\n",
    "train = split_dic['train']\n",
    "print('Images in train set:' + str(len(train)))\n",
    "test = split_dic['test']\n",
    "print('Images in test set:' + str(len(test)))"
   ]
  },
  {
   "cell_type": "code",
   "execution_count": 4,
   "metadata": {},
   "outputs": [],
   "source": [
    "# Image dimensions\n",
    "image_height = 299\n",
    "image_width = 299\n",
    "channels = 3\n",
    "display_images = True"
   ]
  },
  {
   "cell_type": "code",
   "execution_count": 5,
   "metadata": {},
   "outputs": [],
   "source": [
    "label_names = ['Bare pavement', 'Partial snow coverage', 'Full snow coverage']"
   ]
  },
  {
   "cell_type": "code",
   "execution_count": 6,
   "metadata": {},
   "outputs": [],
   "source": [
    "# Function that prints the total number of images per category in the given set\n",
    "def print_items(list_of_files):\n",
    "    cat1 = 0\n",
    "    cat2 = 0\n",
    "    cat3 = 0\n",
    "    for ifile in list_of_files:\n",
    "        if 'C1' in ifile:\n",
    "            cat1 += 1\n",
    "        elif 'C2' in ifile:\n",
    "            cat2 += 1\n",
    "        elif 'C3' in ifile:\n",
    "            cat3 += 1\n",
    "    total = cat1+cat2+cat3\n",
    "    print ('Total images: ' + str(total))\n",
    "    print (label_names[0] + ' ' + str(cat1) + ' Approx. ' + str(int(cat1/total*100)) + '%')\n",
    "    print (label_names[1] + ' ' + str(cat2) + ' Approx. ' + str(int(cat2/total*100)) + '%')\n",
    "    print (label_names[2] + ' ' + str(cat3) + ' Approx. ' + str(int(cat3/total*100)) + '%')"
   ]
  },
  {
   "cell_type": "code",
   "execution_count": 7,
   "metadata": {},
   "outputs": [
    {
     "name": "stdout",
     "output_type": "stream",
     "text": [
      "- Summary of images in the train set -\n",
      "Total images: 12600\n",
      "Bare pavement 5691 Approx. 45%\n",
      "Partial snow coverage 5114 Approx. 40%\n",
      "Full snow coverage 1795 Approx. 14%\n"
     ]
    }
   ],
   "source": [
    "print('- Summary of images in the train set -')\n",
    "print_items(train)"
   ]
  },
  {
   "cell_type": "code",
   "execution_count": 8,
   "metadata": {},
   "outputs": [
    {
     "name": "stdout",
     "output_type": "stream",
     "text": [
      "- Summary of images in the test set -\n",
      "Total images: 1400\n",
      "Bare pavement 648 Approx. 46%\n",
      "Partial snow coverage 558 Approx. 39%\n",
      "Full snow coverage 194 Approx. 13%\n"
     ]
    }
   ],
   "source": [
    "print('- Summary of images in the test set -')\n",
    "print_items(test)"
   ]
  },
  {
   "cell_type": "code",
   "execution_count": 9,
   "metadata": {},
   "outputs": [],
   "source": [
    "# Function that outputs the list of all files in the directory tree \n",
    "def getListOfFiles(dirName):\n",
    "    # create a list of file and sub directories \n",
    "    # names in the given directory \n",
    "    listOfFile = os.listdir(dirName)\n",
    "    allFiles = list()\n",
    "    # Iterate over all the entries\n",
    "    for entry in listOfFile:\n",
    "        # Create full path\n",
    "        fullPath = os.path.join(dirName, entry)\n",
    "        # If entry is a directory then get the list of files in this directory \n",
    "        if os.path.isdir(fullPath):\n",
    "            allFiles = allFiles + getListOfFiles(fullPath)\n",
    "        else:\n",
    "            if '.jpg' in fullPath :\n",
    "                allFiles.append(fullPath)    \n",
    "    return allFiles"
   ]
  },
  {
   "cell_type": "code",
   "execution_count": 10,
   "metadata": {},
   "outputs": [],
   "source": [
    "# Function to convert list of image filenames into numpy X and Y arrays\n",
    "def getArrays(folder, list_of_files):\n",
    "    \n",
    "    # Number of images in the list\n",
    "    numim = len(list_of_files)\n",
    "    # Prepare array for the images\n",
    "    images_array = np.ndarray(shape=(numim, image_height, image_width, channels), dtype=np.float16)\n",
    "    # Prepare array for the labels\n",
    "    labels_array = np.ndarray(shape = numim,dtype=np.uint8)\n",
    "    # Set some counters\n",
    "    idx_files = 0\n",
    "    completion = 20\n",
    "    \n",
    "    # Loop over the filenames\n",
    "    for ifile in list_of_files:\n",
    "        fullpath = folder + ifile\n",
    "        # From filename to numpy array\n",
    "        img_arr = imageio.imread(fullpath)\n",
    "        images_array[idx_files] = img_arr / 255.0\n",
    "        # Obtain label from filename\n",
    "        if '/C1/' in ifile:\n",
    "            label = 0\n",
    "        elif '/C2/' in ifile:\n",
    "            label = 1\n",
    "        elif '/C3/' in ifile:\n",
    "            label = 2\n",
    "        labels_array[idx_files] = label\n",
    "        idx_files += 1\n",
    "        \n",
    "        # Print % of completion\n",
    "        if (idx_files+1) % (numim//5) == 0:\n",
    "            print('Completed ' + str(completion) + '%')\n",
    "            completion += 20\n",
    "\n",
    "    return images_array, labels_array"
   ]
  },
  {
   "cell_type": "code",
   "execution_count": 11,
   "metadata": {},
   "outputs": [],
   "source": [
    "folder = \"../input/rwis299/rwis299/rwis299\""
   ]
  },
  {
   "cell_type": "code",
   "execution_count": 12,
   "metadata": {},
   "outputs": [
    {
     "name": "stdout",
     "output_type": "stream",
     "text": [
      "Completed 20%\n",
      "Completed 40%\n",
      "Completed 60%\n",
      "Completed 80%\n",
      "Completed 100%\n",
      "X_train shape is (12600, 299, 299, 3)\n",
      "y_train shape is (12600,)\n"
     ]
    }
   ],
   "source": [
    "# Import the corresponding images into numpy arrays \n",
    "X_train, y_train = getArrays(folder, train)\n",
    "print('X_train shape is ' + str(X_train.shape))\n",
    "print('y_train shape is ' + str(y_train.shape))"
   ]
  },
  {
   "cell_type": "code",
   "execution_count": 13,
   "metadata": {},
   "outputs": [
    {
     "name": "stdout",
     "output_type": "stream",
     "text": [
      "Completed 20%\n",
      "Completed 40%\n",
      "Completed 60%\n",
      "Completed 80%\n",
      "Completed 100%\n",
      "X_test shape is (1400, 299, 299, 3)\n",
      "y_test shape is (1400,)\n"
     ]
    }
   ],
   "source": [
    "# Import the corresponding images into numpy arrays \n",
    "X_test, y_test = getArrays(folder, test)\n",
    "print('X_test shape is ' + str(X_test.shape))\n",
    "print('y_test shape is ' + str(y_test.shape))"
   ]
  },
  {
   "cell_type": "code",
   "execution_count": 14,
   "metadata": {},
   "outputs": [
    {
     "name": "stdout",
     "output_type": "stream",
     "text": [
      "/ER-14/C2/ER-Hwy401_Curry_Hill-p3-1515260700.jpg\n"
     ]
    },
    {
     "data": {
      "image/jpeg": "[encoded data removed]",
      "text/plain": [
       "<IPython.core.display.Image object>"
      ]
     },
     "metadata": {
      "image/jpeg": {
       "height": 299,
       "width": 299
      }
     },
     "output_type": "display_data"
    },
    {
     "name": "stdout",
     "output_type": "stream",
     "text": [
      "/ER-32/C3/ER-Hwy416_Rideau_River-p3-1515841200.jpg\n"
     ]
    },
    {
     "data": {
      "image/jpeg": "[encoded data removed]",
      "text/plain": [
       "<IPython.core.display.Image object>"
      ]
     },
     "metadata": {
      "image/jpeg": {
       "height": 299,
       "width": 299
      }
     },
     "output_type": "display_data"
    }
   ],
   "source": [
    "# Display some images from the train set\n",
    "if display_images:    \n",
    "    for i in range(0, 2):\n",
    "        print(train[i])\n",
    "        display(_Imgdis(filename=folder+train[i], width = image_width, height = image_height))"
   ]
  },
  {
   "cell_type": "code",
   "execution_count": 15,
   "metadata": {},
   "outputs": [
    {
     "name": "stdout",
     "output_type": "stream",
     "text": [
      "/CR-19/C2/CR-Hwy401_near_Newtonville_Rd-p1-1513948500.jpg\n"
     ]
    },
    {
     "data": {
      "image/jpeg": "[encoded data removed]",
      "text/plain": [
       "<IPython.core.display.Image object>"
      ]
     },
     "metadata": {
      "image/jpeg": {
       "height": 299,
       "width": 299
      }
     },
     "output_type": "display_data"
    },
    {
     "name": "stdout",
     "output_type": "stream",
     "text": [
      "/NER-14/C1/NER-Hwy11_Marten_River-p1-1515527100.jpg\n"
     ]
    },
    {
     "data": {
      "image/jpeg": "[encoded data removed]",
      "text/plain": [
       "<IPython.core.display.Image object>"
      ]
     },
     "metadata": {
      "image/jpeg": {
       "height": 299,
       "width": 299
      }
     },
     "output_type": "display_data"
    }
   ],
   "source": [
    "# Display some images from the test set\n",
    "if display_images:\n",
    "    for i in range(0, 2):\n",
    "        print(test[i])\n",
    "        display(_Imgdis(filename=folder+test[i], width = image_width, height = image_height))"
   ]
  },
  {
   "cell_type": "markdown",
   "metadata": {},
   "source": [
    "## Model preparation"
   ]
  },
  {
   "cell_type": "code",
   "execution_count": 16,
   "metadata": {},
   "outputs": [
    {
     "name": "stderr",
     "output_type": "stream",
     "text": [
      "Using TensorFlow backend.\n"
     ]
    }
   ],
   "source": [
    "#Import Keras and TensorFlow libraries\n",
    "from keras.preprocessing import image\n",
    "from keras.models import Model\n",
    "from keras import backend as K\n",
    "from time import time\n",
    "from keras.utils import np_utils\n",
    "from keras.models import Sequential\n",
    "from keras.layers import Dense, Dropout, Flatten, Input\n",
    "from keras import optimizers\n",
    "from keras.utils import to_categorical\n",
    "from keras.layers.convolutional import Conv2D, MaxPooling2D\n",
    "from keras.callbacks import TensorBoard"
   ]
  },
  {
   "cell_type": "code",
   "execution_count": 17,
   "metadata": {},
   "outputs": [],
   "source": [
    "# fix random seed for reproducibility\n",
    "seed = 7\n",
    "np.random.seed(seed)"
   ]
  },
  {
   "cell_type": "code",
   "execution_count": 18,
   "metadata": {},
   "outputs": [],
   "source": [
    "# Convert class vectors to binary class matrices.\n",
    "num_classes = 3\n",
    "y_train = to_categorical(y_train, num_classes)\n",
    "y_test = to_categorical(y_test, num_classes)"
   ]
  },
  {
   "cell_type": "code",
   "execution_count": 19,
   "metadata": {},
   "outputs": [
    {
     "name": "stdout",
     "output_type": "stream",
     "text": [
      "(12600, 3)\n",
      "(1400, 3)\n"
     ]
    }
   ],
   "source": [
    "print(y_train.shape)\n",
    "print(y_test.shape)"
   ]
  },
  {
   "cell_type": "markdown",
   "metadata": {},
   "source": [
    "## Defining the CNN architecture"
   ]
  },
  {
   "cell_type": "code",
   "execution_count": 20,
   "metadata": {},
   "outputs": [
    {
     "name": "stdout",
     "output_type": "stream",
     "text": [
      "WARNING:tensorflow:From /opt/conda/lib/python3.6/site-packages/tensorflow/python/framework/op_def_library.py:263: colocate_with (from tensorflow.python.framework.ops) is deprecated and will be removed in a future version.\n",
      "Instructions for updating:\n",
      "Colocations handled automatically by placer.\n",
      "WARNING:tensorflow:From /opt/conda/lib/python3.6/site-packages/keras/backend/tensorflow_backend.py:3445: calling dropout (from tensorflow.python.ops.nn_ops) with keep_prob is deprecated and will be removed in a future version.\n",
      "Instructions for updating:\n",
      "Please use `rate` instead of `keep_prob`. Rate should be set to `rate = 1 - keep_prob`.\n"
     ]
    }
   ],
   "source": [
    "# Create structure of Convolutional Neural Network\n",
    "model = Sequential()\n",
    "\n",
    "model.add(Conv2D(16, kernel_size=(3, 3),\n",
    "                 activation='relu',\n",
    "                 input_shape=(299, 299, 3)))\n",
    "model.add(MaxPooling2D(pool_size=(2, 2)))\n",
    "model.add(Conv2D(27, (3, 3), activation='relu'))\n",
    "model.add(MaxPooling2D(pool_size=(2, 2)))\n",
    "model.add(Conv2D(46, (3, 3), activation='relu'))\n",
    "model.add(MaxPooling2D(pool_size=(2, 2)))\n",
    "model.add(Conv2D(79, (3, 3), activation='relu'))\n",
    "model.add(MaxPooling2D(pool_size=(2, 2)))\n",
    "model.add(Conv2D(134, (3, 3), activation='relu'))\n",
    "model.add(MaxPooling2D(pool_size=(2, 2)))\n",
    "model.add(Dropout(0.5))\n",
    "model.add(Flatten())\n",
    "model.add(Dense(24, activation='relu'))\n",
    "model.add(Dropout(0.5))\n",
    "model.add(Dense(12, activation='relu'))\n",
    "model.add(Dropout(0.5))\n",
    "model.add(Dense(3, activation='softmax'))"
   ]
  },
  {
   "cell_type": "code",
   "execution_count": 21,
   "metadata": {},
   "outputs": [
    {
     "name": "stdout",
     "output_type": "stream",
     "text": [
      "_________________________________________________________________\n",
      "Layer (type)                 Output Shape              Param #   \n",
      "=================================================================\n",
      "conv2d_1 (Conv2D)            (None, 297, 297, 16)      448       \n",
      "_________________________________________________________________\n",
      "max_pooling2d_1 (MaxPooling2 (None, 148, 148, 16)      0         \n",
      "_________________________________________________________________\n",
      "conv2d_2 (Conv2D)            (None, 146, 146, 27)      3915      \n",
      "_________________________________________________________________\n",
      "max_pooling2d_2 (MaxPooling2 (None, 73, 73, 27)        0         \n",
      "_________________________________________________________________\n",
      "conv2d_3 (Conv2D)            (None, 71, 71, 46)        11224     \n",
      "_________________________________________________________________\n",
      "max_pooling2d_3 (MaxPooling2 (None, 35, 35, 46)        0         \n",
      "_________________________________________________________________\n",
      "conv2d_4 (Conv2D)            (None, 33, 33, 79)        32785     \n",
      "_________________________________________________________________\n",
      "max_pooling2d_4 (MaxPooling2 (None, 16, 16, 79)        0         \n",
      "_________________________________________________________________\n",
      "conv2d_5 (Conv2D)            (None, 14, 14, 134)       95408     \n",
      "_________________________________________________________________\n",
      "max_pooling2d_5 (MaxPooling2 (None, 7, 7, 134)         0         \n",
      "_________________________________________________________________\n",
      "dropout_1 (Dropout)          (None, 7, 7, 134)         0         \n",
      "_________________________________________________________________\n",
      "flatten_1 (Flatten)          (None, 6566)              0         \n",
      "_________________________________________________________________\n",
      "dense_1 (Dense)              (None, 24)                157608    \n",
      "_________________________________________________________________\n",
      "dropout_2 (Dropout)          (None, 24)                0         \n",
      "_________________________________________________________________\n",
      "dense_2 (Dense)              (None, 12)                300       \n",
      "_________________________________________________________________\n",
      "dropout_3 (Dropout)          (None, 12)                0         \n",
      "_________________________________________________________________\n",
      "dense_3 (Dense)              (None, 3)                 39        \n",
      "=================================================================\n",
      "Total params: 301,727\n",
      "Trainable params: 301,727\n",
      "Non-trainable params: 0\n",
      "_________________________________________________________________\n",
      "None\n"
     ]
    }
   ],
   "source": [
    "view_model = True\n",
    "if view_model:\n",
    "    print(model.summary())"
   ]
  },
  {
   "cell_type": "markdown",
   "metadata": {},
   "source": [
    "## Model training"
   ]
  },
  {
   "cell_type": "code",
   "execution_count": 22,
   "metadata": {},
   "outputs": [],
   "source": [
    "opt = optimizers.SGD(lr=0.001, momentum=0.9, nesterov=True)\n",
    "model.compile(loss='categorical_crossentropy', optimizer=opt, metrics=['accuracy'])"
   ]
  },
  {
   "cell_type": "code",
   "execution_count": 23,
   "metadata": {},
   "outputs": [],
   "source": [
    "batch_size = 32\n",
    "epochs = 50"
   ]
  },
  {
   "cell_type": "code",
   "execution_count": 24,
   "metadata": {},
   "outputs": [
    {
     "name": "stdout",
     "output_type": "stream",
     "text": [
      "WARNING:tensorflow:From /opt/conda/lib/python3.6/site-packages/tensorflow/python/ops/math_ops.py:3066: to_int32 (from tensorflow.python.ops.math_ops) is deprecated and will be removed in a future version.\n",
      "Instructions for updating:\n",
      "Use tf.cast instead.\n",
      "Train on 10080 samples, validate on 2520 samples\n",
      "Epoch 1/50\n",
      "10080/10080 [==============================] - 48s 5ms/step - loss: 1.0248 - acc: 0.4350 - val_loss: 0.9883 - val_acc: 0.4480\n",
      "Epoch 2/50\n",
      "10080/10080 [==============================] - 42s 4ms/step - loss: 0.9904 - acc: 0.4344 - val_loss: 0.9622 - val_acc: 0.4694\n",
      "Epoch 3/50\n",
      "10080/10080 [==============================] - 43s 4ms/step - loss: 0.9697 - acc: 0.4593 - val_loss: 0.9394 - val_acc: 0.4893\n",
      "Epoch 4/50\n",
      "10080/10080 [==============================] - 43s 4ms/step - loss: 0.9544 - acc: 0.4876 - val_loss: 0.9198 - val_acc: 0.5194\n",
      "Epoch 5/50\n",
      "10080/10080 [==============================] - 43s 4ms/step - loss: 0.9344 - acc: 0.5249 - val_loss: 0.8937 - val_acc: 0.5655\n",
      "Epoch 6/50\n",
      "10080/10080 [==============================] - 43s 4ms/step - loss: 0.9186 - acc: 0.5468 - val_loss: 0.8619 - val_acc: 0.5933\n",
      "Epoch 7/50\n",
      "10080/10080 [==============================] - 43s 4ms/step - loss: 0.8984 - acc: 0.5660 - val_loss: 0.8517 - val_acc: 0.6028\n",
      "Epoch 8/50\n",
      "10080/10080 [==============================] - 43s 4ms/step - loss: 0.8729 - acc: 0.5798 - val_loss: 0.8311 - val_acc: 0.6155\n",
      "Epoch 9/50\n",
      "10080/10080 [==============================] - 43s 4ms/step - loss: 0.8662 - acc: 0.5920 - val_loss: 0.8035 - val_acc: 0.6373\n",
      "Epoch 10/50\n",
      "10080/10080 [==============================] - 43s 4ms/step - loss: 0.8493 - acc: 0.5994 - val_loss: 0.8105 - val_acc: 0.6214\n",
      "Epoch 11/50\n",
      "10080/10080 [==============================] - 43s 4ms/step - loss: 0.8400 - acc: 0.6097 - val_loss: 0.7655 - val_acc: 0.6544\n",
      "Epoch 12/50\n",
      "10080/10080 [==============================] - 43s 4ms/step - loss: 0.8138 - acc: 0.6250 - val_loss: 0.7452 - val_acc: 0.6738\n",
      "Epoch 13/50\n",
      "10080/10080 [==============================] - 43s 4ms/step - loss: 0.8007 - acc: 0.6345 - val_loss: 0.7279 - val_acc: 0.6754\n",
      "Epoch 14/50\n",
      "10080/10080 [==============================] - 43s 4ms/step - loss: 0.7860 - acc: 0.6432 - val_loss: 0.7036 - val_acc: 0.6948\n",
      "Epoch 15/50\n",
      "10080/10080 [==============================] - 43s 4ms/step - loss: 0.7682 - acc: 0.6530 - val_loss: 0.6859 - val_acc: 0.7060\n",
      "Epoch 16/50\n",
      "10080/10080 [==============================] - 43s 4ms/step - loss: 0.7482 - acc: 0.6640 - val_loss: 0.6732 - val_acc: 0.7000\n",
      "Epoch 17/50\n",
      "10080/10080 [==============================] - 43s 4ms/step - loss: 0.7288 - acc: 0.6764 - val_loss: 0.6638 - val_acc: 0.7008\n",
      "Epoch 18/50\n",
      "10080/10080 [==============================] - 43s 4ms/step - loss: 0.7046 - acc: 0.6856 - val_loss: 0.6531 - val_acc: 0.6821\n",
      "Epoch 19/50\n",
      "10080/10080 [==============================] - 43s 4ms/step - loss: 0.6873 - acc: 0.7010 - val_loss: 0.6007 - val_acc: 0.7313\n",
      "Epoch 20/50\n",
      "10080/10080 [==============================] - 43s 4ms/step - loss: 0.6714 - acc: 0.7121 - val_loss: 0.5713 - val_acc: 0.7437\n",
      "Epoch 21/50\n",
      "10080/10080 [==============================] - 43s 4ms/step - loss: 0.6451 - acc: 0.7228 - val_loss: 0.5332 - val_acc: 0.7698\n",
      "Epoch 22/50\n",
      "10080/10080 [==============================] - 43s 4ms/step - loss: 0.6223 - acc: 0.7411 - val_loss: 0.5287 - val_acc: 0.7770\n",
      "Epoch 23/50\n",
      "10080/10080 [==============================] - 43s 4ms/step - loss: 0.6034 - acc: 0.7466 - val_loss: 0.5091 - val_acc: 0.7893\n",
      "Epoch 24/50\n",
      "10080/10080 [==============================] - 43s 4ms/step - loss: 0.5979 - acc: 0.7513 - val_loss: 0.4821 - val_acc: 0.7996\n",
      "Epoch 25/50\n",
      "10080/10080 [==============================] - 43s 4ms/step - loss: 0.5639 - acc: 0.7670 - val_loss: 0.4346 - val_acc: 0.8409\n",
      "Epoch 26/50\n",
      "10080/10080 [==============================] - 43s 4ms/step - loss: 0.5476 - acc: 0.7778 - val_loss: 0.4331 - val_acc: 0.8377\n",
      "Epoch 27/50\n",
      "10080/10080 [==============================] - 43s 4ms/step - loss: 0.5266 - acc: 0.7907 - val_loss: 0.4053 - val_acc: 0.8536\n",
      "Epoch 28/50\n",
      "10080/10080 [==============================] - 43s 4ms/step - loss: 0.5060 - acc: 0.7994 - val_loss: 0.3855 - val_acc: 0.8599\n",
      "Epoch 29/50\n",
      "10080/10080 [==============================] - 43s 4ms/step - loss: 0.5043 - acc: 0.8009 - val_loss: 0.4765 - val_acc: 0.7877\n",
      "Epoch 30/50\n",
      "10080/10080 [==============================] - 43s 4ms/step - loss: 0.4833 - acc: 0.8112 - val_loss: 0.3731 - val_acc: 0.8647\n",
      "Epoch 31/50\n",
      "10080/10080 [==============================] - 43s 4ms/step - loss: 0.4744 - acc: 0.8127 - val_loss: 0.3597 - val_acc: 0.8663\n",
      "Epoch 32/50\n",
      "10080/10080 [==============================] - 43s 4ms/step - loss: 0.4638 - acc: 0.8206 - val_loss: 0.3567 - val_acc: 0.8766\n",
      "Epoch 33/50\n",
      "10080/10080 [==============================] - 43s 4ms/step - loss: 0.4478 - acc: 0.8280 - val_loss: 0.3317 - val_acc: 0.8813\n",
      "Epoch 34/50\n",
      "10080/10080 [==============================] - 43s 4ms/step - loss: 0.4272 - acc: 0.8343 - val_loss: 0.3149 - val_acc: 0.8865\n",
      "Epoch 35/50\n",
      "10080/10080 [==============================] - 43s 4ms/step - loss: 0.4286 - acc: 0.8381 - val_loss: 0.3127 - val_acc: 0.8873\n",
      "Epoch 36/50\n",
      "10080/10080 [==============================] - 43s 4ms/step - loss: 0.4093 - acc: 0.8446 - val_loss: 0.3252 - val_acc: 0.8849\n",
      "Epoch 37/50\n",
      "10080/10080 [==============================] - 43s 4ms/step - loss: 0.4086 - acc: 0.8476 - val_loss: 0.3022 - val_acc: 0.8937\n",
      "Epoch 38/50\n",
      " 7776/10080 [======================>.......] - ETA: 8s - loss: 0.4097 - acc: 0.8465"
     ]
    }
   ],
   "source": [
    "train_history = model.fit(x=X_train, y=y_train, batch_size=batch_size, \n",
    "                      epochs=epochs, verbose=1,\n",
    "                      validation_split = 0.2,\n",
    "                      shuffle=True)"
   ]
  },
  {
   "cell_type": "markdown",
   "metadata": {},
   "source": [
    "## Evaluate results"
   ]
  },
  {
   "cell_type": "code",
   "execution_count": 25,
   "metadata": {},
   "outputs": [
    {
     "data": {
      "image/png": "[encoded data removed]",
      "text/plain": [
       "<Figure size 432x288 with 1 Axes>"
      ]
     },
     "metadata": {},
     "output_type": "display_data"
    }
   ],
   "source": [
    "# Get the values from the training history dictionary\n",
    "train_loss = train_history.history['loss'] \n",
    "val_loss = train_history.history['val_loss']\n",
    "\n",
    "# Plot the resulting loss\n",
    "plt.plot(range(1,1+len(train_loss)), train_loss)\n",
    "plt.plot(range(1,1+len(val_loss)), val_loss)\n",
    "plt.xticks(np.arange(1,1+len(train_loss),5))\n",
    "plt.title('Model loss')\n",
    "plt.ylabel('Loss')\n",
    "plt.xlabel('Epoch')\n",
    "plt.legend(['Train', 'Validation'], loc='upper left')\n",
    "axes = plt.gca()\n",
    "axes.set_xlim([1,len(train_loss)])\n",
    "axes.set_ylim([0,5])\n",
    "plt.show()"
   ]
  },
  {
   "cell_type": "code",
   "execution_count": 26,
   "metadata": {},
   "outputs": [
    {
     "data": {
      "image/png": "[encoded data removed]",
      "text/plain": [
       "<Figure size 432x288 with 1 Axes>"
      ]
     },
     "metadata": {},
     "output_type": "display_data"
    }
   ],
   "source": [
    "# Get the values from the training history dictionary\n",
    "train_acc = train_history.history['acc'] \n",
    "val_acc = train_history.history['val_acc']\n",
    "\n",
    "# Plot the resulting loss\n",
    "plt.plot(range(1,1+len(train_acc)), train_acc)\n",
    "plt.plot(range(1,1+len(val_acc)), val_acc)\n",
    "plt.xticks(np.arange(1,1+len(train_acc),5))\n",
    "plt.title('Model accuracy')\n",
    "plt.ylabel('Accuracy')\n",
    "plt.xlabel('Epoch')\n",
    "plt.legend(['Train', 'Validation'], loc='upper right')\n",
    "axes = plt.gca()\n",
    "axes.set_xlim([1,len(train_acc)])\n",
    "axes.set_ylim([0,1])\n",
    "plt.show()"
   ]
  },
  {
   "cell_type": "code",
   "execution_count": 27,
   "metadata": {},
   "outputs": [
    {
     "name": "stdout",
     "output_type": "stream",
     "text": [
      "--Evaluation over the train and validation datasets--\n",
      "Final train loss: 0.2909\n",
      "Final validation loss: 0.2626\n",
      "Final train accuracy:  89.78%\n",
      "Final validation accuracy:  90.95%\n"
     ]
    }
   ],
   "source": [
    "print(\"--Evaluation over the train and validation datasets--\")\n",
    "print(\"Final train loss: \"+'{:6.4f}'.format(train_loss[-1]))   \n",
    "print(\"Final validation loss: \"+'{:6.4f}'.format(val_loss[-1]))   \n",
    "print(\"Final train accuracy: \"+'{:6.2f}'.format(train_acc[-1]*100)+'%')\n",
    "print(\"Final validation accuracy: \"+'{:6.2f}'.format(val_acc[-1]*100)+'%')"
   ]
  },
  {
   "cell_type": "code",
   "execution_count": 28,
   "metadata": {},
   "outputs": [
    {
     "name": "stdout",
     "output_type": "stream",
     "text": [
      "--Evaluation over the test dataset--\n",
      "Loss: 0.2796\n",
      "Accuracy:  90.79%\n"
     ]
    }
   ],
   "source": [
    "scores = model.evaluate(X_test, y_test, verbose=0)\n",
    "print(\"--Evaluation over the test dataset--\")\n",
    "print(\"Loss: \"+'{:6.4f}'.format(scores[0]))   \n",
    "print(\"Accuracy: \"+'{:6.2f}'.format(scores[1]*100)+'%')"
   ]
  },
  {
   "cell_type": "code",
   "execution_count": 29,
   "metadata": {},
   "outputs": [],
   "source": [
    "y_pred = model.predict(X_test)"
   ]
  },
  {
   "cell_type": "code",
   "execution_count": 30,
   "metadata": {},
   "outputs": [
    {
     "name": "stderr",
     "output_type": "stream",
     "text": [
      "/opt/conda/lib/python3.6/site-packages/sklearn/externals/joblib/_multiprocessing_helpers.py:38: UserWarning: [Errno 12] Cannot allocate memory.  joblib will operate in serial mode\n",
      "  warnings.warn('%s.  joblib will operate in serial mode' % (e,))\n"
     ]
    },
    {
     "name": "stdout",
     "output_type": "stream",
     "text": [
      "[[614  32   2]\n",
      " [ 19 530   9]\n",
      " [  2  65 127]]\n"
     ]
    }
   ],
   "source": [
    "from sklearn.metrics import confusion_matrix\n",
    "matrix = confusion_matrix(y_test.argmax(axis=1), y_pred.argmax(axis=1))\n",
    "print(matrix)"
   ]
  },
  {
   "cell_type": "markdown",
   "metadata": {},
   "source": [
    "## Save results"
   ]
  },
  {
   "cell_type": "code",
   "execution_count": 31,
   "metadata": {},
   "outputs": [],
   "source": [
    "baseline_history_dic = {'train_loss':train_loss,\n",
    "                    'test_loss':val_loss,\n",
    "                     'train_acc':train_acc,\n",
    "                      'test_acc':val_acc}\n",
    "\n",
    "with open('baseline_history_ICF_17.pickle', 'wb') as handle:\n",
    "    pickle.dump(baseline_history_dic, handle, protocol=pickle.HIGHEST_PROTOCOL)"
   ]
  },
  {
   "cell_type": "code",
   "execution_count": 32,
   "metadata": {},
   "outputs": [],
   "source": []
  }
 ],
 "metadata": {
  "kernelspec": {
   "display_name": "Python 3",
   "language": "python",
   "name": "python3"
  },
  "language_info": {
   "codemirror_mode": {
    "name": "ipython",
    "version": 3
   },
   "file_extension": ".py",
   "mimetype": "text/x-python",
   "name": "python",
   "nbconvert_exporter": "python",
   "pygments_lexer": "ipython3",
   "version": "3.6.4"
  }
 },
 "nbformat": 4,
 "nbformat_minor": 1
}
