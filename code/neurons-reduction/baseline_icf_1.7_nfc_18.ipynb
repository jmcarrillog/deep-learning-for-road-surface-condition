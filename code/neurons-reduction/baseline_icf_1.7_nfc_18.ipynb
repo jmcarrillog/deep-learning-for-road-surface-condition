{
 "cells": [
  {
   "cell_type": "markdown",
   "metadata": {
    "_cell_guid": "b1076dfc-b9ad-4769-8c92-a6c4dae69d19",
    "_uuid": "8f2839f25d086af736a60e9eeb907d3b93b6e0e5"
   },
   "source": [
    "# BASELINE MODEL FOR RWIS RSC CLASSIFICATION"
   ]
  },
  {
   "cell_type": "markdown",
   "metadata": {
    "_cell_guid": "79c7e3d0-c299-4dcb-8224-4455121ee9b0",
    "_uuid": "d629ff2d2480ee46fbb7e2d37f6b5fab8052498a",
    "collapsed": true
   },
   "source": [
    "## Import libraries"
   ]
  },
  {
   "cell_type": "code",
   "execution_count": 1,
   "metadata": {},
   "outputs": [],
   "source": [
    "# Libraries for file and data handling\n",
    "%matplotlib inline\n",
    "import os, sys\n",
    "import numpy as np \n",
    "import pandas as pd\n",
    "import matplotlib\n",
    "import matplotlib.pyplot as plt\n",
    "from scipy import misc\n",
    "import imageio\n",
    "from IPython.display import display\n",
    "from IPython.display import Image as _Imgdis\n",
    "from PIL import Image\n",
    "import pickle\n",
    "from random import shuffle, seed\n",
    "seed(1)"
   ]
  },
  {
   "cell_type": "markdown",
   "metadata": {},
   "source": [
    "## Data preparation"
   ]
  },
  {
   "cell_type": "code",
   "execution_count": 2,
   "metadata": {},
   "outputs": [],
   "source": [
    "# Load the lists detailing the train and test files\n",
    "with open('../input/rwis-data-split/split.pickle', 'rb') as handle:\n",
    "    split_dic = pickle.load(handle)"
   ]
  },
  {
   "cell_type": "code",
   "execution_count": 3,
   "metadata": {},
   "outputs": [
    {
     "name": "stdout",
     "output_type": "stream",
     "text": [
      "Images in train set:12600\n",
      "Images in test set:1400\n"
     ]
    }
   ],
   "source": [
    "# Obtain the lists\n",
    "train = split_dic['train']\n",
    "print('Images in train set:' + str(len(train)))\n",
    "test = split_dic['test']\n",
    "print('Images in test set:' + str(len(test)))"
   ]
  },
  {
   "cell_type": "code",
   "execution_count": 4,
   "metadata": {},
   "outputs": [],
   "source": [
    "# Image dimensions\n",
    "image_height = 299\n",
    "image_width = 299\n",
    "channels = 3\n",
    "display_images = True"
   ]
  },
  {
   "cell_type": "code",
   "execution_count": 5,
   "metadata": {},
   "outputs": [],
   "source": [
    "label_names = ['Bare pavement', 'Partial snow coverage', 'Full snow coverage']"
   ]
  },
  {
   "cell_type": "code",
   "execution_count": 6,
   "metadata": {},
   "outputs": [],
   "source": [
    "# Function that prints the total number of images per category in the given set\n",
    "def print_items(list_of_files):\n",
    "    cat1 = 0\n",
    "    cat2 = 0\n",
    "    cat3 = 0\n",
    "    for ifile in list_of_files:\n",
    "        if 'C1' in ifile:\n",
    "            cat1 += 1\n",
    "        elif 'C2' in ifile:\n",
    "            cat2 += 1\n",
    "        elif 'C3' in ifile:\n",
    "            cat3 += 1\n",
    "    total = cat1+cat2+cat3\n",
    "    print ('Total images: ' + str(total))\n",
    "    print (label_names[0] + ' ' + str(cat1) + ' Approx. ' + str(int(cat1/total*100)) + '%')\n",
    "    print (label_names[1] + ' ' + str(cat2) + ' Approx. ' + str(int(cat2/total*100)) + '%')\n",
    "    print (label_names[2] + ' ' + str(cat3) + ' Approx. ' + str(int(cat3/total*100)) + '%')"
   ]
  },
  {
   "cell_type": "code",
   "execution_count": 7,
   "metadata": {},
   "outputs": [
    {
     "name": "stdout",
     "output_type": "stream",
     "text": [
      "- Summary of images in the train set -\n",
      "Total images: 12600\n",
      "Bare pavement 5691 Approx. 45%\n",
      "Partial snow coverage 5114 Approx. 40%\n",
      "Full snow coverage 1795 Approx. 14%\n"
     ]
    }
   ],
   "source": [
    "print('- Summary of images in the train set -')\n",
    "print_items(train)"
   ]
  },
  {
   "cell_type": "code",
   "execution_count": 8,
   "metadata": {},
   "outputs": [
    {
     "name": "stdout",
     "output_type": "stream",
     "text": [
      "- Summary of images in the test set -\n",
      "Total images: 1400\n",
      "Bare pavement 648 Approx. 46%\n",
      "Partial snow coverage 558 Approx. 39%\n",
      "Full snow coverage 194 Approx. 13%\n"
     ]
    }
   ],
   "source": [
    "print('- Summary of images in the test set -')\n",
    "print_items(test)"
   ]
  },
  {
   "cell_type": "code",
   "execution_count": 9,
   "metadata": {},
   "outputs": [],
   "source": [
    "# Function that outputs the list of all files in the directory tree \n",
    "def getListOfFiles(dirName):\n",
    "    # create a list of file and sub directories \n",
    "    # names in the given directory \n",
    "    listOfFile = os.listdir(dirName)\n",
    "    allFiles = list()\n",
    "    # Iterate over all the entries\n",
    "    for entry in listOfFile:\n",
    "        # Create full path\n",
    "        fullPath = os.path.join(dirName, entry)\n",
    "        # If entry is a directory then get the list of files in this directory \n",
    "        if os.path.isdir(fullPath):\n",
    "            allFiles = allFiles + getListOfFiles(fullPath)\n",
    "        else:\n",
    "            if '.jpg' in fullPath :\n",
    "                allFiles.append(fullPath)    \n",
    "    return allFiles"
   ]
  },
  {
   "cell_type": "code",
   "execution_count": 10,
   "metadata": {},
   "outputs": [],
   "source": [
    "# Function to convert list of image filenames into numpy X and Y arrays\n",
    "def getArrays(folder, list_of_files):\n",
    "    \n",
    "    # Number of images in the list\n",
    "    numim = len(list_of_files)\n",
    "    # Prepare array for the images\n",
    "    images_array = np.ndarray(shape=(numim, image_height, image_width, channels), dtype=np.float16)\n",
    "    # Prepare array for the labels\n",
    "    labels_array = np.ndarray(shape = numim,dtype=np.uint8)\n",
    "    # Set some counters\n",
    "    idx_files = 0\n",
    "    completion = 20\n",
    "    \n",
    "    # Loop over the filenames\n",
    "    for ifile in list_of_files:\n",
    "        fullpath = folder + ifile\n",
    "        # From filename to numpy array\n",
    "        img_arr = imageio.imread(fullpath)\n",
    "        images_array[idx_files] = img_arr / 255.0\n",
    "        # Obtain label from filename\n",
    "        if '/C1/' in ifile:\n",
    "            label = 0\n",
    "        elif '/C2/' in ifile:\n",
    "            label = 1\n",
    "        elif '/C3/' in ifile:\n",
    "            label = 2\n",
    "        labels_array[idx_files] = label\n",
    "        idx_files += 1\n",
    "        \n",
    "        # Print % of completion\n",
    "        if (idx_files+1) % (numim//5) == 0:\n",
    "            print('Completed ' + str(completion) + '%')\n",
    "            completion += 20\n",
    "\n",
    "    return images_array, labels_array"
   ]
  },
  {
   "cell_type": "code",
   "execution_count": 11,
   "metadata": {},
   "outputs": [],
   "source": [
    "folder = \"../input/rwis299/rwis299/rwis299\""
   ]
  },
  {
   "cell_type": "code",
   "execution_count": 12,
   "metadata": {},
   "outputs": [
    {
     "name": "stdout",
     "output_type": "stream",
     "text": [
      "Completed 20%\n",
      "Completed 40%\n",
      "Completed 60%\n",
      "Completed 80%\n",
      "Completed 100%\n",
      "X_train shape is (12600, 299, 299, 3)\n",
      "y_train shape is (12600,)\n"
     ]
    }
   ],
   "source": [
    "# Import the corresponding images into numpy arrays \n",
    "X_train, y_train = getArrays(folder, train)\n",
    "print('X_train shape is ' + str(X_train.shape))\n",
    "print('y_train shape is ' + str(y_train.shape))"
   ]
  },
  {
   "cell_type": "code",
   "execution_count": 13,
   "metadata": {},
   "outputs": [
    {
     "name": "stdout",
     "output_type": "stream",
     "text": [
      "Completed 20%\n",
      "Completed 40%\n",
      "Completed 60%\n",
      "Completed 80%\n",
      "Completed 100%\n",
      "X_test shape is (1400, 299, 299, 3)\n",
      "y_test shape is (1400,)\n"
     ]
    }
   ],
   "source": [
    "# Import the corresponding images into numpy arrays \n",
    "X_test, y_test = getArrays(folder, test)\n",
    "print('X_test shape is ' + str(X_test.shape))\n",
    "print('y_test shape is ' + str(y_test.shape))"
   ]
  },
  {
   "cell_type": "code",
   "execution_count": 14,
   "metadata": {},
   "outputs": [
    {
     "name": "stdout",
     "output_type": "stream",
     "text": [
      "/ER-14/C2/ER-Hwy401_Curry_Hill-p3-1515260700.jpg\n"
     ]
    },
    {
     "data": {
      "image/jpeg": "[encoded data removed]",
      "text/plain": [
       "<IPython.core.display.Image object>"
      ]
     },
     "metadata": {
      "image/jpeg": {
       "height": 299,
       "width": 299
      }
     },
     "output_type": "display_data"
    },
    {
     "name": "stdout",
     "output_type": "stream",
     "text": [
      "/ER-32/C3/ER-Hwy416_Rideau_River-p3-1515841200.jpg\n"
     ]
    },
    {
     "data": {
      "image/jpeg": "[encoded data removed]",
      "text/plain": [
       "<IPython.core.display.Image object>"
      ]
     },
     "metadata": {
      "image/jpeg": {
       "height": 299,
       "width": 299
      }
     },
     "output_type": "display_data"
    }
   ],
   "source": [
    "# Display some images from the train set\n",
    "if display_images:    \n",
    "    for i in range(0, 2):\n",
    "        print(train[i])\n",
    "        display(_Imgdis(filename=folder+train[i], width = image_width, height = image_height))"
   ]
  },
  {
   "cell_type": "code",
   "execution_count": 15,
   "metadata": {},
   "outputs": [
    {
     "name": "stdout",
     "output_type": "stream",
     "text": [
      "/CR-19/C2/CR-Hwy401_near_Newtonville_Rd-p1-1513948500.jpg\n"
     ]
    },
    {
     "data": {
      "image/jpeg": "[encoded data removed]",
      "text/plain": [
       "<IPython.core.display.Image object>"
      ]
     },
     "metadata": {
      "image/jpeg": {
       "height": 299,
       "width": 299
      }
     },
     "output_type": "display_data"
    },
    {
     "name": "stdout",
     "output_type": "stream",
     "text": [
      "/NER-14/C1/NER-Hwy11_Marten_River-p1-1515527100.jpg\n"
     ]
    },
    {
     "data": {
      "image/jpeg": "[encoded data removed]",
      "text/plain": [
       "<IPython.core.display.Image object>"
      ]
     },
     "metadata": {
      "image/jpeg": {
       "height": 299,
       "width": 299
      }
     },
     "output_type": "display_data"
    }
   ],
   "source": [
    "# Display some images from the test set\n",
    "if display_images:\n",
    "    for i in range(0, 2):\n",
    "        print(test[i])\n",
    "        display(_Imgdis(filename=folder+test[i], width = image_width, height = image_height))"
   ]
  },
  {
   "cell_type": "markdown",
   "metadata": {},
   "source": [
    "## Model preparation"
   ]
  },
  {
   "cell_type": "code",
   "execution_count": 16,
   "metadata": {},
   "outputs": [
    {
     "name": "stderr",
     "output_type": "stream",
     "text": [
      "Using TensorFlow backend.\n"
     ]
    }
   ],
   "source": [
    "#Import Keras and TensorFlow libraries\n",
    "from keras.preprocessing import image\n",
    "from keras.models import Model\n",
    "from keras import backend as K\n",
    "from time import time\n",
    "from keras.utils import np_utils\n",
    "from keras.models import Sequential\n",
    "from keras.layers import Dense, Dropout, Flatten, Input\n",
    "from keras import optimizers\n",
    "from keras.utils import to_categorical\n",
    "from keras.layers.convolutional import Conv2D, MaxPooling2D\n",
    "from keras.callbacks import TensorBoard"
   ]
  },
  {
   "cell_type": "code",
   "execution_count": 17,
   "metadata": {},
   "outputs": [],
   "source": [
    "# fix random seed for reproducibility\n",
    "seed = 7\n",
    "np.random.seed(seed)"
   ]
  },
  {
   "cell_type": "code",
   "execution_count": 18,
   "metadata": {},
   "outputs": [],
   "source": [
    "# Convert class vectors to binary class matrices.\n",
    "num_classes = 3\n",
    "y_train = to_categorical(y_train, num_classes)\n",
    "y_test = to_categorical(y_test, num_classes)"
   ]
  },
  {
   "cell_type": "code",
   "execution_count": 19,
   "metadata": {},
   "outputs": [
    {
     "name": "stdout",
     "output_type": "stream",
     "text": [
      "(12600, 3)\n",
      "(1400, 3)\n"
     ]
    }
   ],
   "source": [
    "print(y_train.shape)\n",
    "print(y_test.shape)"
   ]
  },
  {
   "cell_type": "markdown",
   "metadata": {},
   "source": [
    "## Defining the CNN architecture"
   ]
  },
  {
   "cell_type": "code",
   "execution_count": 20,
   "metadata": {},
   "outputs": [
    {
     "name": "stdout",
     "output_type": "stream",
     "text": [
      "WARNING:tensorflow:From /opt/conda/lib/python3.6/site-packages/tensorflow/python/framework/op_def_library.py:263: colocate_with (from tensorflow.python.framework.ops) is deprecated and will be removed in a future version.\n",
      "Instructions for updating:\n",
      "Colocations handled automatically by placer.\n",
      "WARNING:tensorflow:From /opt/conda/lib/python3.6/site-packages/keras/backend/tensorflow_backend.py:3445: calling dropout (from tensorflow.python.ops.nn_ops) with keep_prob is deprecated and will be removed in a future version.\n",
      "Instructions for updating:\n",
      "Please use `rate` instead of `keep_prob`. Rate should be set to `rate = 1 - keep_prob`.\n"
     ]
    }
   ],
   "source": [
    "# Create structure of Convolutional Neural Network\n",
    "model = Sequential()\n",
    "\n",
    "model.add(Conv2D(16, kernel_size=(3, 3),\n",
    "                 activation='relu',\n",
    "                 input_shape=(299, 299, 3)))\n",
    "model.add(MaxPooling2D(pool_size=(2, 2)))\n",
    "model.add(Conv2D(27, (3, 3), activation='relu'))\n",
    "model.add(MaxPooling2D(pool_size=(2, 2)))\n",
    "model.add(Conv2D(46, (3, 3), activation='relu'))\n",
    "model.add(MaxPooling2D(pool_size=(2, 2)))\n",
    "model.add(Conv2D(79, (3, 3), activation='relu'))\n",
    "model.add(MaxPooling2D(pool_size=(2, 2)))\n",
    "model.add(Conv2D(134, (3, 3), activation='relu'))\n",
    "model.add(MaxPooling2D(pool_size=(2, 2)))\n",
    "model.add(Dropout(0.5))\n",
    "model.add(Flatten())\n",
    "model.add(Dense(12, activation='relu'))\n",
    "model.add(Dropout(0.5))\n",
    "model.add(Dense(6, activation='relu'))\n",
    "model.add(Dropout(0.5))\n",
    "model.add(Dense(3, activation='softmax'))"
   ]
  },
  {
   "cell_type": "code",
   "execution_count": 21,
   "metadata": {},
   "outputs": [
    {
     "name": "stdout",
     "output_type": "stream",
     "text": [
      "_________________________________________________________________\n",
      "Layer (type)                 Output Shape              Param #   \n",
      "=================================================================\n",
      "conv2d_1 (Conv2D)            (None, 297, 297, 16)      448       \n",
      "_________________________________________________________________\n",
      "max_pooling2d_1 (MaxPooling2 (None, 148, 148, 16)      0         \n",
      "_________________________________________________________________\n",
      "conv2d_2 (Conv2D)            (None, 146, 146, 27)      3915      \n",
      "_________________________________________________________________\n",
      "max_pooling2d_2 (MaxPooling2 (None, 73, 73, 27)        0         \n",
      "_________________________________________________________________\n",
      "conv2d_3 (Conv2D)            (None, 71, 71, 46)        11224     \n",
      "_________________________________________________________________\n",
      "max_pooling2d_3 (MaxPooling2 (None, 35, 35, 46)        0         \n",
      "_________________________________________________________________\n",
      "conv2d_4 (Conv2D)            (None, 33, 33, 79)        32785     \n",
      "_________________________________________________________________\n",
      "max_pooling2d_4 (MaxPooling2 (None, 16, 16, 79)        0         \n",
      "_________________________________________________________________\n",
      "conv2d_5 (Conv2D)            (None, 14, 14, 134)       95408     \n",
      "_________________________________________________________________\n",
      "max_pooling2d_5 (MaxPooling2 (None, 7, 7, 134)         0         \n",
      "_________________________________________________________________\n",
      "dropout_1 (Dropout)          (None, 7, 7, 134)         0         \n",
      "_________________________________________________________________\n",
      "flatten_1 (Flatten)          (None, 6566)              0         \n",
      "_________________________________________________________________\n",
      "dense_1 (Dense)              (None, 12)                78804     \n",
      "_________________________________________________________________\n",
      "dropout_2 (Dropout)          (None, 12)                0         \n",
      "_________________________________________________________________\n",
      "dense_2 (Dense)              (None, 6)                 78        \n",
      "_________________________________________________________________\n",
      "dropout_3 (Dropout)          (None, 6)                 0         \n",
      "_________________________________________________________________\n",
      "dense_3 (Dense)              (None, 3)                 21        \n",
      "=================================================================\n",
      "Total params: 222,683\n",
      "Trainable params: 222,683\n",
      "Non-trainable params: 0\n",
      "_________________________________________________________________\n",
      "None\n"
     ]
    }
   ],
   "source": [
    "view_model = True\n",
    "if view_model:\n",
    "    print(model.summary())"
   ]
  },
  {
   "cell_type": "markdown",
   "metadata": {},
   "source": [
    "## Model training"
   ]
  },
  {
   "cell_type": "code",
   "execution_count": 22,
   "metadata": {},
   "outputs": [],
   "source": [
    "opt = optimizers.SGD(lr=0.001, momentum=0.9, nesterov=True)\n",
    "model.compile(loss='categorical_crossentropy', optimizer=opt, metrics=['accuracy'])"
   ]
  },
  {
   "cell_type": "code",
   "execution_count": 23,
   "metadata": {},
   "outputs": [],
   "source": [
    "batch_size = 32\n",
    "epochs = 50"
   ]
  },
  {
   "cell_type": "code",
   "execution_count": 24,
   "metadata": {},
   "outputs": [
    {
     "name": "stdout",
     "output_type": "stream",
     "text": [
      "WARNING:tensorflow:From /opt/conda/lib/python3.6/site-packages/tensorflow/python/ops/math_ops.py:3066: to_int32 (from tensorflow.python.ops.math_ops) is deprecated and will be removed in a future version.\n",
      "Instructions for updating:\n",
      "Use tf.cast instead.\n",
      "Train on 10080 samples, validate on 2520 samples\n",
      "Epoch 1/50\n",
      "10080/10080 [==============================] - 44s 4ms/step - loss: 1.0372 - acc: 0.4286 - val_loss: 1.0080 - val_acc: 0.4480\n",
      "Epoch 2/50\n",
      "10080/10080 [==============================] - 42s 4ms/step - loss: 1.0086 - acc: 0.4417 - val_loss: 0.9979 - val_acc: 0.4480\n",
      "Epoch 3/50\n",
      "10080/10080 [==============================] - 41s 4ms/step - loss: 1.0000 - acc: 0.4434 - val_loss: 0.9903 - val_acc: 0.4480\n",
      "Epoch 4/50\n",
      "10080/10080 [==============================] - 42s 4ms/step - loss: 0.9960 - acc: 0.4386 - val_loss: 0.9880 - val_acc: 0.4480\n",
      "Epoch 5/50\n",
      "10080/10080 [==============================] - 42s 4ms/step - loss: 0.9913 - acc: 0.4410 - val_loss: 0.9749 - val_acc: 0.4480\n",
      "Epoch 6/50\n",
      "10080/10080 [==============================] - 42s 4ms/step - loss: 0.9845 - acc: 0.4437 - val_loss: 0.9694 - val_acc: 0.4480\n",
      "Epoch 7/50\n",
      "10080/10080 [==============================] - 42s 4ms/step - loss: 0.9790 - acc: 0.4462 - val_loss: 0.9638 - val_acc: 0.4480\n",
      "Epoch 8/50\n",
      "10080/10080 [==============================] - 42s 4ms/step - loss: 0.9767 - acc: 0.4438 - val_loss: 0.9628 - val_acc: 0.4480\n",
      "Epoch 9/50\n",
      "10080/10080 [==============================] - 41s 4ms/step - loss: 0.9714 - acc: 0.4577 - val_loss: 0.9520 - val_acc: 0.5246\n",
      "Epoch 10/50\n",
      "10080/10080 [==============================] - 42s 4ms/step - loss: 0.9634 - acc: 0.4732 - val_loss: 0.9308 - val_acc: 0.4885\n",
      "Epoch 11/50\n",
      "10080/10080 [==============================] - 41s 4ms/step - loss: 0.9594 - acc: 0.4814 - val_loss: 0.9249 - val_acc: 0.5536\n",
      "Epoch 12/50\n",
      "10080/10080 [==============================] - 42s 4ms/step - loss: 0.9496 - acc: 0.4984 - val_loss: 0.9220 - val_acc: 0.5786\n",
      "Epoch 13/50\n",
      "10080/10080 [==============================] - 41s 4ms/step - loss: 0.9400 - acc: 0.5071 - val_loss: 0.8885 - val_acc: 0.5563\n",
      "Epoch 14/50\n",
      "10080/10080 [==============================] - 42s 4ms/step - loss: 0.9377 - acc: 0.5167 - val_loss: 0.8799 - val_acc: 0.5817\n",
      "Epoch 15/50\n",
      "10080/10080 [==============================] - 42s 4ms/step - loss: 0.9243 - acc: 0.5342 - val_loss: 0.8822 - val_acc: 0.6131\n",
      "Epoch 16/50\n",
      "10080/10080 [==============================] - 42s 4ms/step - loss: 0.9190 - acc: 0.5376 - val_loss: 0.8944 - val_acc: 0.5972\n",
      "Epoch 17/50\n",
      "10080/10080 [==============================] - 41s 4ms/step - loss: 0.9085 - acc: 0.5509 - val_loss: 0.8608 - val_acc: 0.6179\n",
      "Epoch 18/50\n",
      "10080/10080 [==============================] - 42s 4ms/step - loss: 0.9038 - acc: 0.5471 - val_loss: 0.8385 - val_acc: 0.6365\n",
      "Epoch 19/50\n",
      "10080/10080 [==============================] - 42s 4ms/step - loss: 0.9044 - acc: 0.5563 - val_loss: 0.8565 - val_acc: 0.6274\n",
      "Epoch 20/50\n",
      "10080/10080 [==============================] - 42s 4ms/step - loss: 0.8895 - acc: 0.5680 - val_loss: 0.8314 - val_acc: 0.6337\n",
      "Epoch 21/50\n",
      "10080/10080 [==============================] - 42s 4ms/step - loss: 0.8883 - acc: 0.5715 - val_loss: 0.8114 - val_acc: 0.6591\n",
      "Epoch 22/50\n",
      "10080/10080 [==============================] - 42s 4ms/step - loss: 0.8767 - acc: 0.5800 - val_loss: 0.7951 - val_acc: 0.6623\n",
      "Epoch 23/50\n",
      "10080/10080 [==============================] - 42s 4ms/step - loss: 0.8758 - acc: 0.5822 - val_loss: 0.7853 - val_acc: 0.6762\n",
      "Epoch 24/50\n",
      "10080/10080 [==============================] - 41s 4ms/step - loss: 0.8583 - acc: 0.5919 - val_loss: 0.7739 - val_acc: 0.6813\n",
      "Epoch 25/50\n",
      "10080/10080 [==============================] - 42s 4ms/step - loss: 0.8599 - acc: 0.6014 - val_loss: 0.7990 - val_acc: 0.6563\n",
      "Epoch 26/50\n",
      "10080/10080 [==============================] - 41s 4ms/step - loss: 0.8458 - acc: 0.6068 - val_loss: 0.7663 - val_acc: 0.6889\n",
      "Epoch 27/50\n",
      "10080/10080 [==============================] - 42s 4ms/step - loss: 0.8374 - acc: 0.6108 - val_loss: 0.7403 - val_acc: 0.7036\n",
      "Epoch 28/50\n",
      "10080/10080 [==============================] - 41s 4ms/step - loss: 0.8225 - acc: 0.6276 - val_loss: 0.7238 - val_acc: 0.7036\n",
      "Epoch 29/50\n",
      "10080/10080 [==============================] - 43s 4ms/step - loss: 0.8238 - acc: 0.6286 - val_loss: 0.7583 - val_acc: 0.6806\n",
      "Epoch 30/50\n",
      "10080/10080 [==============================] - 41s 4ms/step - loss: 0.8087 - acc: 0.6357 - val_loss: 0.6975 - val_acc: 0.7214\n",
      "Epoch 31/50\n",
      "10080/10080 [==============================] - 42s 4ms/step - loss: 0.8071 - acc: 0.6367 - val_loss: 0.6842 - val_acc: 0.7278\n",
      "Epoch 32/50\n",
      "10080/10080 [==============================] - 41s 4ms/step - loss: 0.7930 - acc: 0.6499 - val_loss: 0.6826 - val_acc: 0.7278\n",
      "Epoch 33/50\n",
      "10080/10080 [==============================] - 42s 4ms/step - loss: 0.7782 - acc: 0.6584 - val_loss: 0.6993 - val_acc: 0.7179\n",
      "Epoch 34/50\n",
      "10080/10080 [==============================] - 41s 4ms/step - loss: 0.7734 - acc: 0.6593 - val_loss: 0.6479 - val_acc: 0.7508\n",
      "Epoch 35/50\n",
      "10080/10080 [==============================] - 42s 4ms/step - loss: 0.7583 - acc: 0.6705 - val_loss: 0.6333 - val_acc: 0.7472\n",
      "Epoch 36/50\n",
      "10080/10080 [==============================] - 41s 4ms/step - loss: 0.7544 - acc: 0.6740 - val_loss: 0.6390 - val_acc: 0.7488\n",
      "Epoch 37/50\n",
      "10080/10080 [==============================] - 42s 4ms/step - loss: 0.7471 - acc: 0.6774 - val_loss: 0.6437 - val_acc: 0.7421\n",
      "Epoch 38/50\n",
      " 7744/10080 [======================>.......] - ETA: 7s - loss: 0.7318 - acc: 0.6853"
     ]
    }
   ],
   "source": [
    "train_history = model.fit(x=X_train, y=y_train, batch_size=batch_size, \n",
    "                      epochs=epochs, verbose=1,\n",
    "                      validation_split = 0.2,\n",
    "                      shuffle=True)"
   ]
  },
  {
   "cell_type": "markdown",
   "metadata": {},
   "source": [
    "## Evaluate results"
   ]
  },
  {
   "cell_type": "code",
   "execution_count": 25,
   "metadata": {},
   "outputs": [
    {
     "data": {
      "image/png": "[encoded data removed]",
      "text/plain": [
       "<Figure size 432x288 with 1 Axes>"
      ]
     },
     "metadata": {},
     "output_type": "display_data"
    }
   ],
   "source": [
    "# Get the values from the training history dictionary\n",
    "train_loss = train_history.history['loss'] \n",
    "val_loss = train_history.history['val_loss']\n",
    "\n",
    "# Plot the resulting loss\n",
    "plt.plot(range(1,1+len(train_loss)), train_loss)\n",
    "plt.plot(range(1,1+len(val_loss)), val_loss)\n",
    "plt.xticks(np.arange(1,1+len(train_loss),5))\n",
    "plt.title('Model loss')\n",
    "plt.ylabel('Loss')\n",
    "plt.xlabel('Epoch')\n",
    "plt.legend(['Train', 'Validation'], loc='upper left')\n",
    "axes = plt.gca()\n",
    "axes.set_xlim([1,len(train_loss)])\n",
    "axes.set_ylim([0,5])\n",
    "plt.show()"
   ]
  },
  {
   "cell_type": "code",
   "execution_count": 26,
   "metadata": {},
   "outputs": [
    {
     "data": {
      "image/png": "[encoded data removed]",
      "text/plain": [
       "<Figure size 432x288 with 1 Axes>"
      ]
     },
     "metadata": {},
     "output_type": "display_data"
    }
   ],
   "source": [
    "# Get the values from the training history dictionary\n",
    "train_acc = train_history.history['acc'] \n",
    "val_acc = train_history.history['val_acc']\n",
    "\n",
    "# Plot the resulting loss\n",
    "plt.plot(range(1,1+len(train_acc)), train_acc)\n",
    "plt.plot(range(1,1+len(val_acc)), val_acc)\n",
    "plt.xticks(np.arange(1,1+len(train_acc),5))\n",
    "plt.title('Model accuracy')\n",
    "plt.ylabel('Accuracy')\n",
    "plt.xlabel('Epoch')\n",
    "plt.legend(['Train', 'Validation'], loc='upper right')\n",
    "axes = plt.gca()\n",
    "axes.set_xlim([1,len(train_acc)])\n",
    "axes.set_ylim([0,1])\n",
    "plt.show()"
   ]
  },
  {
   "cell_type": "code",
   "execution_count": 27,
   "metadata": {},
   "outputs": [
    {
     "name": "stdout",
     "output_type": "stream",
     "text": [
      "--Evaluation over the train and validation datasets--\n",
      "Final train loss: 0.6487\n",
      "Final validation loss: 0.4915\n",
      "Final train accuracy:  72.85%\n",
      "Final validation accuracy:  79.40%\n"
     ]
    }
   ],
   "source": [
    "print(\"--Evaluation over the train and validation datasets--\")\n",
    "print(\"Final train loss: \"+'{:6.4f}'.format(train_loss[-1]))   \n",
    "print(\"Final validation loss: \"+'{:6.4f}'.format(val_loss[-1]))   \n",
    "print(\"Final train accuracy: \"+'{:6.2f}'.format(train_acc[-1]*100)+'%')\n",
    "print(\"Final validation accuracy: \"+'{:6.2f}'.format(val_acc[-1]*100)+'%')"
   ]
  },
  {
   "cell_type": "code",
   "execution_count": 28,
   "metadata": {},
   "outputs": [
    {
     "name": "stdout",
     "output_type": "stream",
     "text": [
      "--Evaluation over the test dataset--\n",
      "Loss: 0.4838\n",
      "Accuracy:  78.79%\n"
     ]
    }
   ],
   "source": [
    "scores = model.evaluate(X_test, y_test, verbose=0)\n",
    "print(\"--Evaluation over the test dataset--\")\n",
    "print(\"Loss: \"+'{:6.4f}'.format(scores[0]))   \n",
    "print(\"Accuracy: \"+'{:6.2f}'.format(scores[1]*100)+'%')"
   ]
  },
  {
   "cell_type": "markdown",
   "metadata": {},
   "source": [
    "## Save results"
   ]
  },
  {
   "cell_type": "code",
   "execution_count": 29,
   "metadata": {},
   "outputs": [],
   "source": [
    "baseline_history_dic = {'train_loss':train_loss,\n",
    "                    'test_loss':val_loss,\n",
    "                     'train_acc':train_acc,\n",
    "                      'test_acc':val_acc}\n",
    "\n",
    "with open('baseline_history_ICF_17.pickle', 'wb') as handle:\n",
    "    pickle.dump(baseline_history_dic, handle, protocol=pickle.HIGHEST_PROTOCOL)"
   ]
  },
  {
   "cell_type": "code",
   "execution_count": 30,
   "metadata": {},
   "outputs": [],
   "source": []
  }
 ],
 "metadata": {
  "kernelspec": {
   "display_name": "Python 3",
   "language": "python",
   "name": "python3"
  },
  "language_info": {
   "codemirror_mode": {
    "name": "ipython",
    "version": 3
   },
   "file_extension": ".py",
   "mimetype": "text/x-python",
   "name": "python",
   "nbconvert_exporter": "python",
   "pygments_lexer": "ipython3",
   "version": "3.6.4"
  }
 },
 "nbformat": 4,
 "nbformat_minor": 1
}
